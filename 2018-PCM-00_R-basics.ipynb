{
 "cells": [
  {
   "cell_type": "markdown",
   "metadata": {},
   "source": [
    "# CEB 35300, Phylogenetic Comparative Methods 2018\n",
    "## Andrew Hipp, ahipp@mortonarb.org\n",
    "### Session 0 (prior to class): Getting started in <code>R</code>"
   ]
  },
  {
   "cell_type": "markdown",
   "metadata": {},
   "source": [
    "#### Environment -- the R session\n",
    "R is a programming environment, organized as work sessions. Each work session has within it a host of objects---this includes variables and functions---enclosed within environments. Environments when you first start up R include all the packages that are included in the R base distribution, plus any that you specify to be loaded when you start up R. Start up R on your machine, and take a look at what's in there when you first start it."
   ]
  },
  {
   "cell_type": "code",
   "execution_count": 1,
   "metadata": {
    "collapsed": false
   },
   "outputs": [
    {
     "data": {
      "text/html": [
       "<ol class=list-inline>\n",
       "\t<li>'.GlobalEnv'</li>\n",
       "\t<li>'jupyter:irkernel'</li>\n",
       "\t<li>'jupyter:irkernel'</li>\n",
       "\t<li>'package:stats'</li>\n",
       "\t<li>'package:graphics'</li>\n",
       "\t<li>'package:grDevices'</li>\n",
       "\t<li>'package:utils'</li>\n",
       "\t<li>'package:datasets'</li>\n",
       "\t<li>'package:methods'</li>\n",
       "\t<li>'Autoloads'</li>\n",
       "\t<li>'package:base'</li>\n",
       "</ol>\n"
      ],
      "text/latex": [
       "\\begin{enumerate*}\n",
       "\\item '.GlobalEnv'\n",
       "\\item 'jupyter:irkernel'\n",
       "\\item 'jupyter:irkernel'\n",
       "\\item 'package:stats'\n",
       "\\item 'package:graphics'\n",
       "\\item 'package:grDevices'\n",
       "\\item 'package:utils'\n",
       "\\item 'package:datasets'\n",
       "\\item 'package:methods'\n",
       "\\item 'Autoloads'\n",
       "\\item 'package:base'\n",
       "\\end{enumerate*}\n"
      ],
      "text/markdown": [
       "1. '.GlobalEnv'\n",
       "2. 'jupyter:irkernel'\n",
       "3. 'jupyter:irkernel'\n",
       "4. 'package:stats'\n",
       "5. 'package:graphics'\n",
       "6. 'package:grDevices'\n",
       "7. 'package:utils'\n",
       "8. 'package:datasets'\n",
       "9. 'package:methods'\n",
       "10. 'Autoloads'\n",
       "11. 'package:base'\n",
       "\n",
       "\n"
      ],
      "text/plain": [
       " [1] \".GlobalEnv\"        \"jupyter:irkernel\"  \"jupyter:irkernel\" \n",
       " [4] \"package:stats\"     \"package:graphics\"  \"package:grDevices\"\n",
       " [7] \"package:utils\"     \"package:datasets\"  \"package:methods\"  \n",
       "[10] \"Autoloads\"         \"package:base\"     "
      ]
     },
     "metadata": {},
     "output_type": "display_data"
    }
   ],
   "source": [
    "search()"
   ]
  },
  {
   "cell_type": "markdown",
   "metadata": {},
   "source": [
    "You see that there is something called '.GlobalEnv'. This is the environment in which you are working currently. The other environments are packages that were loaded when R started up. Whenever you type a function or variable name, as we did when we called the function \"search\", R searches backwards through the environments, beginning with the last one, and stops when it hits a match. If we were to create a new function called \"search\", it would live in the global environment, and R would find that function b/f it found the function search that is in the base package. Take a look:"
   ]
  },
  {
   "cell_type": "code",
   "execution_count": 2,
   "metadata": {
    "collapsed": false
   },
   "outputs": [
    {
     "name": "stdout",
     "output_type": "stream",
     "text": [
      "[1] \"Hello. I am looking for Otis -- can you help me?\"\n"
     ]
    }
   ],
   "source": [
    "search <- function(anyName = 'Otis') print(paste('Hello. I am looking for', \n",
    "                                           anyName, '-- can you help me?'))\n",
    "search()"
   ]
  },
  {
   "cell_type": "markdown",
   "metadata": {},
   "source": [
    "Hold it! We have overwritten 'search'. Let's figure out where the original 'search' came from using '?search'. We find that it is from the base package, so we can access the object in a couple of ways:"
   ]
  },
  {
   "cell_type": "code",
   "execution_count": 3,
   "metadata": {
    "collapsed": false
   },
   "outputs": [
    {
     "data": {
      "text/html": [
       "<ol class=list-inline>\n",
       "\t<li>'.GlobalEnv'</li>\n",
       "\t<li>'jupyter:irkernel'</li>\n",
       "\t<li>'jupyter:irkernel'</li>\n",
       "\t<li>'package:stats'</li>\n",
       "\t<li>'package:graphics'</li>\n",
       "\t<li>'package:grDevices'</li>\n",
       "\t<li>'package:utils'</li>\n",
       "\t<li>'package:datasets'</li>\n",
       "\t<li>'package:methods'</li>\n",
       "\t<li>'Autoloads'</li>\n",
       "\t<li>'package:base'</li>\n",
       "</ol>\n"
      ],
      "text/latex": [
       "\\begin{enumerate*}\n",
       "\\item '.GlobalEnv'\n",
       "\\item 'jupyter:irkernel'\n",
       "\\item 'jupyter:irkernel'\n",
       "\\item 'package:stats'\n",
       "\\item 'package:graphics'\n",
       "\\item 'package:grDevices'\n",
       "\\item 'package:utils'\n",
       "\\item 'package:datasets'\n",
       "\\item 'package:methods'\n",
       "\\item 'Autoloads'\n",
       "\\item 'package:base'\n",
       "\\end{enumerate*}\n"
      ],
      "text/markdown": [
       "1. '.GlobalEnv'\n",
       "2. 'jupyter:irkernel'\n",
       "3. 'jupyter:irkernel'\n",
       "4. 'package:stats'\n",
       "5. 'package:graphics'\n",
       "6. 'package:grDevices'\n",
       "7. 'package:utils'\n",
       "8. 'package:datasets'\n",
       "9. 'package:methods'\n",
       "10. 'Autoloads'\n",
       "11. 'package:base'\n",
       "\n",
       "\n"
      ],
      "text/plain": [
       " [1] \".GlobalEnv\"        \"jupyter:irkernel\"  \"jupyter:irkernel\" \n",
       " [4] \"package:stats\"     \"package:graphics\"  \"package:grDevices\"\n",
       " [7] \"package:utils\"     \"package:datasets\"  \"package:methods\"  \n",
       "[10] \"Autoloads\"         \"package:base\"     "
      ]
     },
     "metadata": {},
     "output_type": "display_data"
    },
    {
     "data": {
      "text/html": [
       "<ol class=list-inline>\n",
       "\t<li>'.GlobalEnv'</li>\n",
       "\t<li>'jupyter:irkernel'</li>\n",
       "\t<li>'jupyter:irkernel'</li>\n",
       "\t<li>'package:stats'</li>\n",
       "\t<li>'package:graphics'</li>\n",
       "\t<li>'package:grDevices'</li>\n",
       "\t<li>'package:utils'</li>\n",
       "\t<li>'package:datasets'</li>\n",
       "\t<li>'package:methods'</li>\n",
       "\t<li>'Autoloads'</li>\n",
       "\t<li>'package:base'</li>\n",
       "</ol>\n"
      ],
      "text/latex": [
       "\\begin{enumerate*}\n",
       "\\item '.GlobalEnv'\n",
       "\\item 'jupyter:irkernel'\n",
       "\\item 'jupyter:irkernel'\n",
       "\\item 'package:stats'\n",
       "\\item 'package:graphics'\n",
       "\\item 'package:grDevices'\n",
       "\\item 'package:utils'\n",
       "\\item 'package:datasets'\n",
       "\\item 'package:methods'\n",
       "\\item 'Autoloads'\n",
       "\\item 'package:base'\n",
       "\\end{enumerate*}\n"
      ],
      "text/markdown": [
       "1. '.GlobalEnv'\n",
       "2. 'jupyter:irkernel'\n",
       "3. 'jupyter:irkernel'\n",
       "4. 'package:stats'\n",
       "5. 'package:graphics'\n",
       "6. 'package:grDevices'\n",
       "7. 'package:utils'\n",
       "8. 'package:datasets'\n",
       "9. 'package:methods'\n",
       "10. 'Autoloads'\n",
       "11. 'package:base'\n",
       "\n",
       "\n"
      ],
      "text/plain": [
       " [1] \".GlobalEnv\"        \"jupyter:irkernel\"  \"jupyter:irkernel\" \n",
       " [4] \"package:stats\"     \"package:graphics\"  \"package:grDevices\"\n",
       " [7] \"package:utils\"     \"package:datasets\"  \"package:methods\"  \n",
       "[10] \"Autoloads\"         \"package:base\"     "
      ]
     },
     "metadata": {},
     "output_type": "display_data"
    }
   ],
   "source": [
    "get('search', envir = baseenv())() ## this is most general, and it will allow you to access objects that are in a non-package environment\n",
    "base:::search() ## this works the same as the above, but it is a useful shortcut"
   ]
  },
  {
   "cell_type": "markdown",
   "metadata": {},
   "source": [
    "Realizing now what we've done, we can remove the object we've created, no harm done."
   ]
  },
  {
   "cell_type": "code",
   "execution_count": 4,
   "metadata": {
    "collapsed": false
   },
   "outputs": [
    {
     "data": {
      "text/html": [
       "<ol class=list-inline>\n",
       "\t<li>'.GlobalEnv'</li>\n",
       "\t<li>'jupyter:irkernel'</li>\n",
       "\t<li>'jupyter:irkernel'</li>\n",
       "\t<li>'package:stats'</li>\n",
       "\t<li>'package:graphics'</li>\n",
       "\t<li>'package:grDevices'</li>\n",
       "\t<li>'package:utils'</li>\n",
       "\t<li>'package:datasets'</li>\n",
       "\t<li>'package:methods'</li>\n",
       "\t<li>'Autoloads'</li>\n",
       "\t<li>'package:base'</li>\n",
       "</ol>\n"
      ],
      "text/latex": [
       "\\begin{enumerate*}\n",
       "\\item '.GlobalEnv'\n",
       "\\item 'jupyter:irkernel'\n",
       "\\item 'jupyter:irkernel'\n",
       "\\item 'package:stats'\n",
       "\\item 'package:graphics'\n",
       "\\item 'package:grDevices'\n",
       "\\item 'package:utils'\n",
       "\\item 'package:datasets'\n",
       "\\item 'package:methods'\n",
       "\\item 'Autoloads'\n",
       "\\item 'package:base'\n",
       "\\end{enumerate*}\n"
      ],
      "text/markdown": [
       "1. '.GlobalEnv'\n",
       "2. 'jupyter:irkernel'\n",
       "3. 'jupyter:irkernel'\n",
       "4. 'package:stats'\n",
       "5. 'package:graphics'\n",
       "6. 'package:grDevices'\n",
       "7. 'package:utils'\n",
       "8. 'package:datasets'\n",
       "9. 'package:methods'\n",
       "10. 'Autoloads'\n",
       "11. 'package:base'\n",
       "\n",
       "\n"
      ],
      "text/plain": [
       " [1] \".GlobalEnv\"        \"jupyter:irkernel\"  \"jupyter:irkernel\" \n",
       " [4] \"package:stats\"     \"package:graphics\"  \"package:grDevices\"\n",
       " [7] \"package:utils\"     \"package:datasets\"  \"package:methods\"  \n",
       "[10] \"Autoloads\"         \"package:base\"     "
      ]
     },
     "metadata": {},
     "output_type": "display_data"
    }
   ],
   "source": [
    "rm(search)\n",
    "search()"
   ]
  },
  {
   "cell_type": "markdown",
   "metadata": {
    "collapsed": true
   },
   "source": [
    "As you can see, we haven't removed the original function from the base environment, only the one we created. Whew!\n",
    "\n",
    "When I begin a work session, a new project, I typically clear out all objects that might be hanging around from the last time I was working in R, and I move into a new folder. This only becomes very important at the end of your work session, when you want to save the work session and history. While you can navigate to a new folder at any time, I try to do so at the beginning of my work session so that I don't inadvertantly overwrite what I was working on the last time I was here, and so any files I write (e.g., PDFs, tab-delimited files, error logs or anything else) are stored in a single working folder."
   ]
  },
  {
   "cell_type": "code",
   "execution_count": 5,
   "metadata": {
    "collapsed": false
   },
   "outputs": [
    {
     "data": {
      "text/html": [],
      "text/latex": [],
      "text/markdown": [],
      "text/plain": [
       "character(0)"
      ]
     },
     "metadata": {},
     "output_type": "display_data"
    }
   ],
   "source": [
    "ls() # this lists what is the in workspace at the time that I start up... \n",
    "        #it may be nothing, or all sorts of stuff."
   ]
  },
  {
   "cell_type": "code",
   "execution_count": 6,
   "metadata": {
    "collapsed": false
   },
   "outputs": [
    {
     "data": {
      "text/html": [],
      "text/latex": [],
      "text/markdown": [],
      "text/plain": [
       "character(0)"
      ]
     },
     "metadata": {},
     "output_type": "display_data"
    }
   ],
   "source": [
    "rm(list = ls()) # this deletes EVERYTHING in the workspace. \n",
    "                # This command is ruthless and will not ask you\n",
    "                # if you want to proceed.\n",
    "ls() # this lists what's in your workspace now; nothing"
   ]
  },
  {
   "cell_type": "code",
   "execution_count": 7,
   "metadata": {
    "collapsed": false
   },
   "outputs": [
    {
     "data": {
      "text/html": [
       "'C:/Users/andre/Dropbox/R-TUTORIALS/PCM-2018'"
      ],
      "text/latex": [
       "'C:/Users/andre/Dropbox/R-TUTORIALS/PCM-2018'"
      ],
      "text/markdown": [
       "'C:/Users/andre/Dropbox/R-TUTORIALS/PCM-2018'"
      ],
      "text/plain": [
       "[1] \"C:/Users/andre/Dropbox/R-TUTORIALS/PCM-2018\""
      ]
     },
     "metadata": {},
     "output_type": "display_data"
    },
    {
     "data": {
      "text/html": [
       "<ol class=list-inline>\n",
       "\t<li>'R-session-1_gettingStartedInR-theBasics.ipynb'</li>\n",
       "\t<li>'R-session-2_organizingAPhylogeneticProjectInR.ipynb'</li>\n",
       "</ol>\n"
      ],
      "text/latex": [
       "\\begin{enumerate*}\n",
       "\\item 'R-session-1\\_gettingStartedInR-theBasics.ipynb'\n",
       "\\item 'R-session-2\\_organizingAPhylogeneticProjectInR.ipynb'\n",
       "\\end{enumerate*}\n"
      ],
      "text/markdown": [
       "1. 'R-session-1_gettingStartedInR-theBasics.ipynb'\n",
       "2. 'R-session-2_organizingAPhylogeneticProjectInR.ipynb'\n",
       "\n",
       "\n"
      ],
      "text/plain": [
       "[1] \"R-session-1_gettingStartedInR-theBasics.ipynb\"      \n",
       "[2] \"R-session-2_organizingAPhylogeneticProjectInR.ipynb\""
      ]
     },
     "metadata": {},
     "output_type": "display_data"
    }
   ],
   "source": [
    "getwd() # this command tells me what directory I'm in...\n",
    "dir() # ... and this one tells me what is in that directory."
   ]
  },
  {
   "cell_type": "code",
   "execution_count": 8,
   "metadata": {
    "collapsed": false
   },
   "outputs": [],
   "source": [
    "#setwd(choose.dir()) # To change directories interactively, you can use this \n",
    "                    # command, but in Windows only; if you are not using\n",
    "                    # Windows, type the path in quotes between the \n",
    "                    # parentheses of \"setwd\"."
   ]
  },
  {
   "cell_type": "markdown",
   "metadata": {},
   "source": [
    "I then attach the packages that I know or suspect that I'll need. If I don't do it right away, there's no great problem: packages can be attached any time, and you can navigate to a new folder at any time. "
   ]
  },
  {
   "cell_type": "code",
   "execution_count": 9,
   "metadata": {
    "collapsed": true
   },
   "outputs": [],
   "source": [
    "library(ape) # here I'm attaching the Analysis of Phylogenetics and Evolution package,\n",
    "             # if I didn't have that package installed on my machine, \n",
    "             # I would have to use install.packages('ape') before attaching it"
   ]
  },
  {
   "cell_type": "markdown",
   "metadata": {},
   "source": [
    "### Assignment and data types\n",
    "#### numeric vectors -- assignment of vectors, and operating on vectors\n",
    "One of the oft-quoted principles of R is that everything is an object. What this means is that almost everything you do---typing a number or character, performing math, calling a function---produces an object that can be acted upon in some way. It can be printed, added to, passed into another function or assigned to a variable within the workspace. There are some exceptions. For example, the \"save\" function is not called because it produces a useful object within the workspace, but because it has the external effect (often called a side-effect) of saving an object to the disk. The same is true of 'print'. But aside from these exceptions, learning to think in terms of objects is essential to getting around at all in R.\n",
    "\n",
    "Objects all have a class, which can be accessed using the \"class\" function. Numeric vectors are among the most commonly used objects in our work. In the following, you can see some of the ways in which numeric vectors are created and manipulated."
   ]
  },
  {
   "cell_type": "code",
   "execution_count": 10,
   "metadata": {
    "collapsed": false
   },
   "outputs": [
    {
     "data": {
      "text/html": [
       "<ol class=list-inline>\n",
       "\t<li>1</li>\n",
       "\t<li>2</li>\n",
       "\t<li>3</li>\n",
       "\t<li>4</li>\n",
       "\t<li>5</li>\n",
       "\t<li>6</li>\n",
       "\t<li>7</li>\n",
       "\t<li>8</li>\n",
       "\t<li>9</li>\n",
       "\t<li>10</li>\n",
       "</ol>\n"
      ],
      "text/latex": [
       "\\begin{enumerate*}\n",
       "\\item 1\n",
       "\\item 2\n",
       "\\item 3\n",
       "\\item 4\n",
       "\\item 5\n",
       "\\item 6\n",
       "\\item 7\n",
       "\\item 8\n",
       "\\item 9\n",
       "\\item 10\n",
       "\\end{enumerate*}\n"
      ],
      "text/markdown": [
       "1. 1\n",
       "2. 2\n",
       "3. 3\n",
       "4. 4\n",
       "5. 5\n",
       "6. 6\n",
       "7. 7\n",
       "8. 8\n",
       "9. 9\n",
       "10. 10\n",
       "\n",
       "\n"
      ],
      "text/plain": [
       " [1]  1  2  3  4  5  6  7  8  9 10"
      ]
     },
     "metadata": {},
     "output_type": "display_data"
    },
    {
     "data": {
      "text/html": [
       "'integer'"
      ],
      "text/latex": [
       "'integer'"
      ],
      "text/markdown": [
       "'integer'"
      ],
      "text/plain": [
       "[1] \"integer\""
      ]
     },
     "metadata": {},
     "output_type": "display_data"
    }
   ],
   "source": [
    "1:10 # prints 1:10, doesn't assign it to anything\n",
    "class(1:10)"
   ]
  },
  {
   "cell_type": "code",
   "execution_count": 11,
   "metadata": {
    "collapsed": false
   },
   "outputs": [
    {
     "data": {
      "text/html": [
       "'integer'"
      ],
      "text/latex": [
       "'integer'"
      ],
      "text/markdown": [
       "'integer'"
      ],
      "text/plain": [
       "[1] \"integer\""
      ]
     },
     "metadata": {},
     "output_type": "display_data"
    }
   ],
   "source": [
    "aa <- 1:10 # assign values using the <- or...\n",
    "aa = 1:10  # ... a single = sign.\n",
    "class(aa)"
   ]
  },
  {
   "cell_type": "code",
   "execution_count": 12,
   "metadata": {
    "collapsed": false
   },
   "outputs": [
    {
     "data": {
      "text/html": [
       "'numeric'"
      ],
      "text/latex": [
       "'numeric'"
      ],
      "text/markdown": [
       "'numeric'"
      ],
      "text/plain": [
       "[1] \"numeric\""
      ]
     },
     "metadata": {},
     "output_type": "display_data"
    }
   ],
   "source": [
    "# the \"c\" operator is very important in R: it is used to concatenate values.\n",
    "bb <- c(1, 2, 3, 4, 5, 6, 7, 8, 9, 10)\n",
    "class(bb) # note that these two are not of the same class; why not?\n",
    "\n",
    "cc <- seq(from = 1, to = 10, by = 1) # another way of saying cc <- 1:10, but more flexible;\n",
    "                                        # you can assign by 0.1 or 2 if you want different intervals"
   ]
  },
  {
   "cell_type": "code",
   "execution_count": 13,
   "metadata": {
    "collapsed": false
   },
   "outputs": [
    {
     "data": {
      "text/html": [
       "FALSE"
      ],
      "text/latex": [
       "FALSE"
      ],
      "text/markdown": [
       "FALSE"
      ],
      "text/plain": [
       "[1] FALSE"
      ]
     },
     "metadata": {},
     "output_type": "display_data"
    }
   ],
   "source": [
    "identical(aa, bb) # a logical test: is aa identical to bb?\n",
    "                    # this test fails, because the classes of aa and bb are different "
   ]
  },
  {
   "cell_type": "code",
   "execution_count": 14,
   "metadata": {
    "collapsed": false
   },
   "outputs": [
    {
     "data": {
      "text/html": [
       "<ol class=list-inline>\n",
       "\t<li>TRUE</li>\n",
       "\t<li>TRUE</li>\n",
       "\t<li>TRUE</li>\n",
       "\t<li>TRUE</li>\n",
       "\t<li>TRUE</li>\n",
       "\t<li>TRUE</li>\n",
       "\t<li>TRUE</li>\n",
       "\t<li>TRUE</li>\n",
       "\t<li>TRUE</li>\n",
       "\t<li>TRUE</li>\n",
       "</ol>\n"
      ],
      "text/latex": [
       "\\begin{enumerate*}\n",
       "\\item TRUE\n",
       "\\item TRUE\n",
       "\\item TRUE\n",
       "\\item TRUE\n",
       "\\item TRUE\n",
       "\\item TRUE\n",
       "\\item TRUE\n",
       "\\item TRUE\n",
       "\\item TRUE\n",
       "\\item TRUE\n",
       "\\end{enumerate*}\n"
      ],
      "text/markdown": [
       "1. TRUE\n",
       "2. TRUE\n",
       "3. TRUE\n",
       "4. TRUE\n",
       "5. TRUE\n",
       "6. TRUE\n",
       "7. TRUE\n",
       "8. TRUE\n",
       "9. TRUE\n",
       "10. TRUE\n",
       "\n",
       "\n"
      ],
      "text/plain": [
       " [1] TRUE TRUE TRUE TRUE TRUE TRUE TRUE TRUE TRUE TRUE"
      ]
     },
     "metadata": {},
     "output_type": "display_data"
    }
   ],
   "source": [
    "aa == bb # a logical test: is each element of aa equal to its related element in bb?"
   ]
  },
  {
   "cell_type": "code",
   "execution_count": 15,
   "metadata": {
    "collapsed": false
   },
   "outputs": [
    {
     "data": {
      "text/html": [
       "TRUE"
      ],
      "text/latex": [
       "TRUE"
      ],
      "text/markdown": [
       "TRUE"
      ],
      "text/plain": [
       "[1] TRUE"
      ]
     },
     "metadata": {},
     "output_type": "display_data"
    }
   ],
   "source": [
    "all(aa == bb) # another logical test: do ALL of the elements of aa equal their related elements in bb?"
   ]
  },
  {
   "cell_type": "code",
   "execution_count": 16,
   "metadata": {
    "collapsed": true
   },
   "outputs": [],
   "source": [
    "aa = bb  # assignment: set aa to be identical to bb\n",
    "aa <- bb # assignment"
   ]
  },
  {
   "cell_type": "code",
   "execution_count": 17,
   "metadata": {
    "collapsed": false
   },
   "outputs": [
    {
     "data": {
      "text/html": [
       "2"
      ],
      "text/latex": [
       "2"
      ],
      "text/markdown": [
       "2"
      ],
      "text/plain": [
       "[1] 2"
      ]
     },
     "metadata": {},
     "output_type": "display_data"
    }
   ],
   "source": [
    "aa[2] # look at the second element of aa\n",
    "aa[2] <- 15 # change the second element of aa"
   ]
  },
  {
   "cell_type": "code",
   "execution_count": 18,
   "metadata": {
    "collapsed": false
   },
   "outputs": [
    {
     "data": {
      "text/html": [
       "<ol class=list-inline>\n",
       "\t<li>TRUE</li>\n",
       "\t<li>FALSE</li>\n",
       "\t<li>TRUE</li>\n",
       "\t<li>TRUE</li>\n",
       "\t<li>TRUE</li>\n",
       "\t<li>TRUE</li>\n",
       "\t<li>TRUE</li>\n",
       "\t<li>TRUE</li>\n",
       "\t<li>TRUE</li>\n",
       "\t<li>TRUE</li>\n",
       "</ol>\n"
      ],
      "text/latex": [
       "\\begin{enumerate*}\n",
       "\\item TRUE\n",
       "\\item FALSE\n",
       "\\item TRUE\n",
       "\\item TRUE\n",
       "\\item TRUE\n",
       "\\item TRUE\n",
       "\\item TRUE\n",
       "\\item TRUE\n",
       "\\item TRUE\n",
       "\\item TRUE\n",
       "\\end{enumerate*}\n"
      ],
      "text/markdown": [
       "1. TRUE\n",
       "2. FALSE\n",
       "3. TRUE\n",
       "4. TRUE\n",
       "5. TRUE\n",
       "6. TRUE\n",
       "7. TRUE\n",
       "8. TRUE\n",
       "9. TRUE\n",
       "10. TRUE\n",
       "\n",
       "\n"
      ],
      "text/plain": [
       " [1]  TRUE FALSE  TRUE  TRUE  TRUE  TRUE  TRUE  TRUE  TRUE  TRUE"
      ]
     },
     "metadata": {},
     "output_type": "display_data"
    },
    {
     "name": "stdout",
     "output_type": "stream",
     "text": [
      " [1] \"multiplying: 1\"   \"multiplying: 30\"  \"multiplying: 9\"   \"multiplying: 16\" \n",
      " [5] \"multiplying: 25\"  \"multiplying: 36\"  \"multiplying: 49\"  \"multiplying: 64\" \n",
      " [9] \"multiplying: 81\"  \"multiplying: 100\"\n",
      " [1] \"adding: 2\"  \"adding: 17\" \"adding: 6\"  \"adding: 8\"  \"adding: 10\"\n",
      " [6] \"adding: 12\" \"adding: 14\" \"adding: 16\" \"adding: 18\" \"adding: 20\"\n"
     ]
    },
    {
     "data": {
      "text/html": [
       "<ol class=list-inline>\n",
       "\t<li>1.1</li>\n",
       "\t<li>16.5</li>\n",
       "\t<li>3.3</li>\n",
       "\t<li>4.4</li>\n",
       "\t<li>5.5</li>\n",
       "\t<li>6.6</li>\n",
       "\t<li>7.7</li>\n",
       "\t<li>8.8</li>\n",
       "\t<li>9.9</li>\n",
       "\t<li>11</li>\n",
       "</ol>\n"
      ],
      "text/latex": [
       "\\begin{enumerate*}\n",
       "\\item 1.1\n",
       "\\item 16.5\n",
       "\\item 3.3\n",
       "\\item 4.4\n",
       "\\item 5.5\n",
       "\\item 6.6\n",
       "\\item 7.7\n",
       "\\item 8.8\n",
       "\\item 9.9\n",
       "\\item 11\n",
       "\\end{enumerate*}\n"
      ],
      "text/markdown": [
       "1. 1.1\n",
       "2. 16.5\n",
       "3. 3.3\n",
       "4. 4.4\n",
       "5. 5.5\n",
       "6. 6.6\n",
       "7. 7.7\n",
       "8. 8.8\n",
       "9. 9.9\n",
       "10. 11\n",
       "\n",
       "\n"
      ],
      "text/plain": [
       " [1]  1.1 16.5  3.3  4.4  5.5  6.6  7.7  8.8  9.9 11.0"
      ]
     },
     "metadata": {},
     "output_type": "display_data"
    },
    {
     "data": {
      "text/html": [
       "<ol class=list-inline>\n",
       "\t<li>1</li>\n",
       "\t<li>16</li>\n",
       "\t<li>3</li>\n",
       "\t<li>4</li>\n",
       "\t<li>5</li>\n",
       "\t<li>6</li>\n",
       "\t<li>7</li>\n",
       "\t<li>8</li>\n",
       "\t<li>9</li>\n",
       "\t<li>11</li>\n",
       "</ol>\n"
      ],
      "text/latex": [
       "\\begin{enumerate*}\n",
       "\\item 1\n",
       "\\item 16\n",
       "\\item 3\n",
       "\\item 4\n",
       "\\item 5\n",
       "\\item 6\n",
       "\\item 7\n",
       "\\item 8\n",
       "\\item 9\n",
       "\\item 11\n",
       "\\end{enumerate*}\n"
      ],
      "text/markdown": [
       "1. 1\n",
       "2. 16\n",
       "3. 3\n",
       "4. 4\n",
       "5. 5\n",
       "6. 6\n",
       "7. 7\n",
       "8. 8\n",
       "9. 9\n",
       "10. 11\n",
       "\n",
       "\n"
      ],
      "text/plain": [
       " [1]  1 16  3  4  5  6  7  8  9 11"
      ]
     },
     "metadata": {},
     "output_type": "display_data"
    }
   ],
   "source": [
    "aa == bb\n",
    "print(paste('multiplying:', aa * bb))\n",
    "print(paste('adding:', aa + bb))\n",
    "aa * 1.1\n",
    "as.integer(aa * 1.1)"
   ]
  },
  {
   "cell_type": "code",
   "execution_count": 19,
   "metadata": {
    "collapsed": false
   },
   "outputs": [
    {
     "data": {
      "text/html": [
       "<dl class=dl-horizontal>\n",
       "\t<dt>Quercus</dt>\n",
       "\t\t<dd>1</dd>\n",
       "\t<dt>Carex</dt>\n",
       "\t\t<dd>15</dd>\n",
       "\t<dt>Acer</dt>\n",
       "\t\t<dd>3</dd>\n",
       "\t<dt>Daphnia</dt>\n",
       "\t\t<dd>4</dd>\n",
       "\t<dt>Granite</dt>\n",
       "\t\t<dd>5</dd>\n",
       "\t<dt>Pan</dt>\n",
       "\t\t<dd>6</dd>\n",
       "\t<dt>Peromyscus</dt>\n",
       "\t\t<dd>7</dd>\n",
       "\t<dt>Microtus</dt>\n",
       "\t\t<dd>8</dd>\n",
       "\t<dt>Shmoo</dt>\n",
       "\t\t<dd>9</dd>\n",
       "\t<dt>Caenorhabditis</dt>\n",
       "\t\t<dd>10</dd>\n",
       "</dl>\n"
      ],
      "text/latex": [
       "\\begin{description*}\n",
       "\\item[Quercus] 1\n",
       "\\item[Carex] 15\n",
       "\\item[Acer] 3\n",
       "\\item[Daphnia] 4\n",
       "\\item[Granite] 5\n",
       "\\item[Pan] 6\n",
       "\\item[Peromyscus] 7\n",
       "\\item[Microtus] 8\n",
       "\\item[Shmoo] 9\n",
       "\\item[Caenorhabditis] 10\n",
       "\\end{description*}\n"
      ],
      "text/markdown": [
       "Quercus\n",
       ":   1Carex\n",
       ":   15Acer\n",
       ":   3Daphnia\n",
       ":   4Granite\n",
       ":   5Pan\n",
       ":   6Peromyscus\n",
       ":   7Microtus\n",
       ":   8Shmoo\n",
       ":   9Caenorhabditis\n",
       ":   10\n",
       "\n"
      ],
      "text/plain": [
       "       Quercus          Carex           Acer        Daphnia        Granite \n",
       "             1             15              3              4              5 \n",
       "           Pan     Peromyscus       Microtus          Shmoo Caenorhabditis \n",
       "             6              7              8              9             10 "
      ]
     },
     "metadata": {},
     "output_type": "display_data"
    },
    {
     "name": "stderr",
     "output_type": "stream",
     "text": [
      "You can subset aa using a number or a name indexing the position of the data you want\n"
     ]
    },
    {
     "data": {
      "text/html": [
       "<strong>Quercus:</strong> 1"
      ],
      "text/latex": [
       "\\textbf{Quercus:} 1"
      ],
      "text/markdown": [
       "**Quercus:** 1"
      ],
      "text/plain": [
       "Quercus \n",
       "      1 "
      ]
     },
     "metadata": {},
     "output_type": "display_data"
    }
   ],
   "source": [
    "names(aa) <- names(bb) <- c('Quercus', 'Carex', 'Acer', 'Daphnia',\n",
    "                            'Granite', 'Pan', 'Peromyscus', 'Microtus', 'Shmoo', 'Caenorhabditis')\n",
    "aa\n",
    "message('You can subset aa using a number or a name indexing the position of the data you want')\n",
    "aa['Quercus']"
   ]
  },
  {
   "cell_type": "markdown",
   "metadata": {},
   "source": [
    "### Matrices and data frames: start thinking about trait data\n",
    "Trait data may be one-dimensional, in which case we can store them in named numeric vectors (look at aa above). But more often they are two-dimensional, tabular data, with individuals or taxa as the rows and traits as the columns. If your trait data are all of one data class---e.g., all numeric or all character data---a matrix is a very natural way of storing these data. "
   ]
  },
  {
   "cell_type": "code",
   "execution_count": 20,
   "metadata": {
    "collapsed": true
   },
   "outputs": [],
   "source": [
    "dd <- matrix(1:12, 4, 3) # create a 4-row by 3-column matrix, filled by column with the numbers 1:12 \n",
    "dd <- matrix(1:12, 4, 3, byrow = T) # create a 4-row by 3-column matrix, filled by row with the numbers 1:12 \n",
    "dd <- matrix(NA, 5, 3, dimnames = list(c('harpo', 'groucho', 'zeppo', 'chico', 'gummo'), \n",
    "                                       c('instrument', 'hair', 'birthOrder'))) # create an empty matrix (cells filled with NA)\n",
    "                                                                                # and name the rows and columns using the\n",
    "                                                                                # dimnames argument"
   ]
  },
  {
   "cell_type": "code",
   "execution_count": 21,
   "metadata": {
    "collapsed": false
   },
   "outputs": [
    {
     "data": {
      "text/html": [
       "'harp'"
      ],
      "text/latex": [
       "'harp'"
      ],
      "text/markdown": [
       "'harp'"
      ],
      "text/plain": [
       "[1] \"harp\""
      ]
     },
     "metadata": {},
     "output_type": "display_data"
    }
   ],
   "source": [
    "dd[1, 1] <- 'harp' # place a single value in row 1, column 1\n",
    "dd[, 3] <- c(2, 3, 5, 1, 4) # fill column 3 with integers\n",
    "dd[1,1] # look at the value in row 1, column 1"
   ]
  },
  {
   "cell_type": "code",
   "execution_count": 22,
   "metadata": {
    "collapsed": false
   },
   "outputs": [
    {
     "data": {
      "text/html": [
       "'harp'"
      ],
      "text/latex": [
       "'harp'"
      ],
      "text/markdown": [
       "'harp'"
      ],
      "text/plain": [
       "[1] \"harp\""
      ]
     },
     "metadata": {},
     "output_type": "display_data"
    }
   ],
   "source": [
    "dd['harpo', 1] # look at the value in row 1, column 1"
   ]
  },
  {
   "cell_type": "code",
   "execution_count": 23,
   "metadata": {
    "collapsed": false
   },
   "outputs": [
    {
     "data": {
      "text/html": [
       "'harp'"
      ],
      "text/latex": [
       "'harp'"
      ],
      "text/markdown": [
       "'harp'"
      ],
      "text/plain": [
       "[1] \"harp\""
      ]
     },
     "metadata": {},
     "output_type": "display_data"
    }
   ],
   "source": [
    "dd['harpo', 'instrument'] # look at the value in row 1, column 1"
   ]
  },
  {
   "cell_type": "markdown",
   "metadata": {},
   "source": [
    "Often, however, your data will be composed of traits of different classes: one continuous, one an ordered categorical trait, one binary. In this case, you are better off using a data.frame object. If you read in your data using 'read.csv', 'read.delim', or 'read.table', you will end up with a data.frame object. The following lines explore some of the properties of data.frames and their relationship to matrices."
   ]
  },
  {
   "cell_type": "code",
   "execution_count": 24,
   "metadata": {
    "collapsed": false
   },
   "outputs": [
    {
     "data": {
      "text/html": [
       "<dl class=dl-horizontal>\n",
       "\t<dt>harpo</dt>\n",
       "\t\t<dd>'harp'</dd>\n",
       "\t<dt>groucho</dt>\n",
       "\t\t<dd>'NA'</dd>\n",
       "\t<dt>zeppo</dt>\n",
       "\t\t<dd>'NA'</dd>\n",
       "\t<dt>chico</dt>\n",
       "\t\t<dd>'NA'</dd>\n",
       "\t<dt>gummo</dt>\n",
       "\t\t<dd>'NA'</dd>\n",
       "</dl>\n"
      ],
      "text/latex": [
       "\\begin{description*}\n",
       "\\item[harpo] 'harp'\n",
       "\\item[groucho] 'NA'\n",
       "\\item[zeppo] 'NA'\n",
       "\\item[chico] 'NA'\n",
       "\\item[gummo] 'NA'\n",
       "\\end{description*}\n"
      ],
      "text/markdown": [
       "harpo\n",
       ":   'harp'groucho\n",
       ":   'NA'zeppo\n",
       ":   'NA'chico\n",
       ":   'NA'gummo\n",
       ":   'NA'\n",
       "\n"
      ],
      "text/plain": [
       "  harpo groucho   zeppo   chico   gummo \n",
       " \"harp\"      NA      NA      NA      NA "
      ]
     },
     "metadata": {},
     "output_type": "display_data"
    }
   ],
   "source": [
    "dd2 <- as.data.frame(dd)\n",
    "dd[, 1]"
   ]
  },
  {
   "cell_type": "code",
   "execution_count": 25,
   "metadata": {
    "collapsed": false
   },
   "outputs": [
    {
     "data": {
      "text/html": [
       "<dl class=dl-horizontal>\n",
       "\t<dt>harpo</dt>\n",
       "\t\t<dd>harp</dd>\n",
       "\t<dt>groucho</dt>\n",
       "\t\t<dd>NA</dd>\n",
       "\t<dt>zeppo</dt>\n",
       "\t\t<dd>NA</dd>\n",
       "\t<dt>chico</dt>\n",
       "\t\t<dd>NA</dd>\n",
       "\t<dt>gummo</dt>\n",
       "\t\t<dd>NA</dd>\n",
       "</dl>\n"
      ],
      "text/latex": [
       "\\begin{description*}\n",
       "\\item[harpo] harp\n",
       "\\item[groucho] NA\n",
       "\\item[zeppo] NA\n",
       "\\item[chico] NA\n",
       "\\item[gummo] NA\n",
       "\\end{description*}\n"
      ],
      "text/markdown": [
       "harpo\n",
       ":   harpgroucho\n",
       ":   NAzeppo\n",
       ":   NAchico\n",
       ":   NAgummo\n",
       ":   NA\n",
       "\n"
      ],
      "text/plain": [
       "  harpo groucho   zeppo   chico   gummo \n",
       "   harp    <NA>    <NA>    <NA>    <NA> \n",
       "Levels: harp"
      ]
     },
     "metadata": {},
     "output_type": "display_data"
    }
   ],
   "source": [
    "dd2[, 1]"
   ]
  },
  {
   "cell_type": "code",
   "execution_count": 26,
   "metadata": {
    "collapsed": false
   },
   "outputs": [
    {
     "data": {
      "text/html": [
       "<ol>\n",
       "\t<li><ol class=list-inline>\n",
       "\t<li>'harpo'</li>\n",
       "\t<li>'groucho'</li>\n",
       "\t<li>'zeppo'</li>\n",
       "\t<li>'chico'</li>\n",
       "\t<li>'gummo'</li>\n",
       "</ol>\n",
       "</li>\n",
       "\t<li><ol class=list-inline>\n",
       "\t<li>'instrument'</li>\n",
       "\t<li>'hair'</li>\n",
       "\t<li>'birthOrder'</li>\n",
       "</ol>\n",
       "</li>\n",
       "</ol>\n"
      ],
      "text/latex": [
       "\\begin{enumerate}\n",
       "\\item \\begin{enumerate*}\n",
       "\\item 'harpo'\n",
       "\\item 'groucho'\n",
       "\\item 'zeppo'\n",
       "\\item 'chico'\n",
       "\\item 'gummo'\n",
       "\\end{enumerate*}\n",
       "\n",
       "\\item \\begin{enumerate*}\n",
       "\\item 'instrument'\n",
       "\\item 'hair'\n",
       "\\item 'birthOrder'\n",
       "\\end{enumerate*}\n",
       "\n",
       "\\end{enumerate}\n"
      ],
      "text/markdown": [
       "1. 1. 'harpo'\n",
       "2. 'groucho'\n",
       "3. 'zeppo'\n",
       "4. 'chico'\n",
       "5. 'gummo'\n",
       "\n",
       "\n",
       "\n",
       "2. 1. 'instrument'\n",
       "2. 'hair'\n",
       "3. 'birthOrder'\n",
       "\n",
       "\n",
       "\n",
       "\n",
       "\n"
      ],
      "text/plain": [
       "[[1]]\n",
       "[1] \"harpo\"   \"groucho\" \"zeppo\"   \"chico\"   \"gummo\"  \n",
       "\n",
       "[[2]]\n",
       "[1] \"instrument\" \"hair\"       \"birthOrder\"\n"
      ]
     },
     "metadata": {},
     "output_type": "display_data"
    }
   ],
   "source": [
    "dimnames(dd2)"
   ]
  },
  {
   "cell_type": "code",
   "execution_count": 27,
   "metadata": {
    "collapsed": false
   },
   "outputs": [
    {
     "data": {
      "text/html": [
       "<ol class=list-inline>\n",
       "\t<li>'harpo'</li>\n",
       "\t<li>'groucho'</li>\n",
       "\t<li>'zeppo'</li>\n",
       "\t<li>'chico'</li>\n",
       "\t<li>'gummo'</li>\n",
       "</ol>\n"
      ],
      "text/latex": [
       "\\begin{enumerate*}\n",
       "\\item 'harpo'\n",
       "\\item 'groucho'\n",
       "\\item 'zeppo'\n",
       "\\item 'chico'\n",
       "\\item 'gummo'\n",
       "\\end{enumerate*}\n"
      ],
      "text/markdown": [
       "1. 'harpo'\n",
       "2. 'groucho'\n",
       "3. 'zeppo'\n",
       "4. 'chico'\n",
       "5. 'gummo'\n",
       "\n",
       "\n"
      ],
      "text/plain": [
       "[1] \"harpo\"   \"groucho\" \"zeppo\"   \"chico\"   \"gummo\"  "
      ]
     },
     "metadata": {},
     "output_type": "display_data"
    }
   ],
   "source": [
    "row.names(dd2)"
   ]
  },
  {
   "cell_type": "code",
   "execution_count": 28,
   "metadata": {
    "collapsed": false
   },
   "outputs": [
    {
     "data": {
      "text/html": [
       "<ol class=list-inline>\n",
       "\t<li>'instrument'</li>\n",
       "\t<li>'hair'</li>\n",
       "\t<li>'birthOrder'</li>\n",
       "</ol>\n"
      ],
      "text/latex": [
       "\\begin{enumerate*}\n",
       "\\item 'instrument'\n",
       "\\item 'hair'\n",
       "\\item 'birthOrder'\n",
       "\\end{enumerate*}\n"
      ],
      "text/markdown": [
       "1. 'instrument'\n",
       "2. 'hair'\n",
       "3. 'birthOrder'\n",
       "\n",
       "\n"
      ],
      "text/plain": [
       "[1] \"instrument\" \"hair\"       \"birthOrder\""
      ]
     },
     "metadata": {},
     "output_type": "display_data"
    }
   ],
   "source": [
    "names(dd2)"
   ]
  },
  {
   "cell_type": "markdown",
   "metadata": {},
   "source": [
    "One of the oddities of data.frame objects is that they default to storing all data as factors. Factors are more often than not a bother, and they working with them can have odd side-effects. When I read in data from an external file using \"read.csv\" or \"read.delim\", I almost always use the \"as.is = TRUE\" argument to prevent R from coercing my data to factors. In the following lines, I convert a few columns to non-factor classes. I also demonstrate the use of $ and [[]] to index columns in a data.frame; neither can be used for matrices."
   ]
  },
  {
   "cell_type": "code",
   "execution_count": 29,
   "metadata": {
    "collapsed": false
   },
   "outputs": [
    {
     "data": {
      "text/html": [
       "<dl class=dl-horizontal>\n",
       "\t<dt>harpo</dt>\n",
       "\t\t<dd>2</dd>\n",
       "\t<dt>groucho</dt>\n",
       "\t\t<dd>3</dd>\n",
       "\t<dt>zeppo</dt>\n",
       "\t\t<dd>5</dd>\n",
       "\t<dt>chico</dt>\n",
       "\t\t<dd>1</dd>\n",
       "\t<dt>gummo</dt>\n",
       "\t\t<dd>4</dd>\n",
       "</dl>\n"
      ],
      "text/latex": [
       "\\begin{description*}\n",
       "\\item[harpo] 2\n",
       "\\item[groucho] 3\n",
       "\\item[zeppo] 5\n",
       "\\item[chico] 1\n",
       "\\item[gummo] 4\n",
       "\\end{description*}\n"
      ],
      "text/markdown": [
       "harpo\n",
       ":   2groucho\n",
       ":   3zeppo\n",
       ":   5chico\n",
       ":   1gummo\n",
       ":   4\n",
       "\n"
      ],
      "text/plain": [
       "  harpo groucho   zeppo   chico   gummo \n",
       "      2       3       5       1       4 \n",
       "Levels: 1 2 3 4 5"
      ]
     },
     "metadata": {},
     "output_type": "display_data"
    }
   ],
   "source": [
    "dd2$birthOrder"
   ]
  },
  {
   "cell_type": "code",
   "execution_count": 30,
   "metadata": {
    "collapsed": false
   },
   "outputs": [
    {
     "data": {
      "text/html": [
       "<ol class=list-inline>\n",
       "\t<li>2</li>\n",
       "\t<li>3</li>\n",
       "\t<li>5</li>\n",
       "\t<li>1</li>\n",
       "\t<li>4</li>\n",
       "</ol>\n"
      ],
      "text/latex": [
       "\\begin{enumerate*}\n",
       "\\item 2\n",
       "\\item 3\n",
       "\\item 5\n",
       "\\item 1\n",
       "\\item 4\n",
       "\\end{enumerate*}\n"
      ],
      "text/markdown": [
       "1. 2\n",
       "2. 3\n",
       "3. 5\n",
       "4. 1\n",
       "5. 4\n",
       "\n",
       "\n"
      ],
      "text/plain": [
       "[1] 2 3 5 1 4"
      ]
     },
     "metadata": {},
     "output_type": "display_data"
    }
   ],
   "source": [
    "as.integer(dd2$birthOrder)"
   ]
  },
  {
   "cell_type": "code",
   "execution_count": 31,
   "metadata": {
    "collapsed": false
   },
   "outputs": [
    {
     "name": "stdout",
     "output_type": "stream",
     "text": [
      "[1] \"character\"\n",
      "[1] \"factor\"\n",
      "[1] \"integer\"\n"
     ]
    }
   ],
   "source": [
    "dd2$birthOrder <- as.integer(dd2$birthOrder)\n",
    "dd2$instrument <- as.character(dd2$instrument)\n",
    "for(i in 1:3) print(class(dd2[[i]]))"
   ]
  },
  {
   "cell_type": "markdown",
   "metadata": {},
   "source": [
    "A data.frame object can be indexed just like a matrix, as well:"
   ]
  },
  {
   "cell_type": "code",
   "execution_count": 32,
   "metadata": {
    "collapsed": false
   },
   "outputs": [
    {
     "name": "stdout",
     "output_type": "stream",
     "text": [
      "        instrument hair birthOrder\n",
      "groucho       <NA> <NA>          3\n",
      "harpo         harp <NA>          2\n",
      "chico         <NA> <NA>          1\n"
     ]
    }
   ],
   "source": [
    "marxFavs <- c('groucho', 'harpo', 'chico')\n",
    "print(dd2[marxFavs, ])"
   ]
  },
  {
   "cell_type": "markdown",
   "metadata": {},
   "source": [
    "### Lists: the most flexible data class\n",
    "While matrices are composed of cells of all one data class, the columns of a data.frame may be of different data classes. The data.frame, it turns out, is just a special kind of list. Lists are collections of any kind of object, indexed using $ and [[]] or [], like a data.frame. In our line of work, the 'phylo' class is a simply a list that packages together a matrix, one or more numeric vectors, and character vectors to define a phylogenetic tree. "
   ]
  },
  {
   "cell_type": "code",
   "execution_count": 33,
   "metadata": {
    "collapsed": false
   },
   "outputs": [
    {
     "data": {
      "text/html": [
       "<dl>\n",
       "\t<dt>$instrument</dt>\n",
       "\t\t<dd><ol class=list-inline>\n",
       "\t<li>'harp'</li>\n",
       "\t<li>'NA'</li>\n",
       "\t<li>'NA'</li>\n",
       "\t<li>'NA'</li>\n",
       "\t<li>'NA'</li>\n",
       "</ol>\n",
       "</dd>\n",
       "\t<dt>$hair</dt>\n",
       "\t\t<dd><dl class=dl-horizontal>\n",
       "\t<dt>harpo</dt>\n",
       "\t\t<dd>NA</dd>\n",
       "\t<dt>groucho</dt>\n",
       "\t\t<dd>NA</dd>\n",
       "\t<dt>zeppo</dt>\n",
       "\t\t<dd>NA</dd>\n",
       "\t<dt>chico</dt>\n",
       "\t\t<dd>NA</dd>\n",
       "\t<dt>gummo</dt>\n",
       "\t\t<dd>NA</dd>\n",
       "</dl>\n",
       "</dd>\n",
       "\t<dt>$birthOrder</dt>\n",
       "\t\t<dd><ol class=list-inline>\n",
       "\t<li>2</li>\n",
       "\t<li>3</li>\n",
       "\t<li>5</li>\n",
       "\t<li>1</li>\n",
       "\t<li>4</li>\n",
       "</ol>\n",
       "</dd>\n",
       "</dl>\n"
      ],
      "text/latex": [
       "\\begin{description}\n",
       "\\item[\\$instrument] \\begin{enumerate*}\n",
       "\\item 'harp'\n",
       "\\item 'NA'\n",
       "\\item 'NA'\n",
       "\\item 'NA'\n",
       "\\item 'NA'\n",
       "\\end{enumerate*}\n",
       "\n",
       "\\item[\\$hair] \\begin{description*}\n",
       "\\item[harpo] NA\n",
       "\\item[groucho] NA\n",
       "\\item[zeppo] NA\n",
       "\\item[chico] NA\n",
       "\\item[gummo] NA\n",
       "\\end{description*}\n",
       "\n",
       "\\item[\\$birthOrder] \\begin{enumerate*}\n",
       "\\item 2\n",
       "\\item 3\n",
       "\\item 5\n",
       "\\item 1\n",
       "\\item 4\n",
       "\\end{enumerate*}\n",
       "\n",
       "\\end{description}\n"
      ],
      "text/markdown": [
       "$instrument\n",
       ":   1. 'harp'\n",
       "2. 'NA'\n",
       "3. 'NA'\n",
       "4. 'NA'\n",
       "5. 'NA'\n",
       "\n",
       "\n",
       "\n",
       "$hair\n",
       ":   harpo\n",
       ":   NAgroucho\n",
       ":   NAzeppo\n",
       ":   NAchico\n",
       ":   NAgummo\n",
       ":   NA\n",
       "\n",
       "\n",
       "$birthOrder\n",
       ":   1. 2\n",
       "2. 3\n",
       "3. 5\n",
       "4. 1\n",
       "5. 4\n",
       "\n",
       "\n",
       "\n",
       "\n",
       "\n"
      ],
      "text/plain": [
       "$instrument\n",
       "[1] \"harp\" NA     NA     NA     NA    \n",
       "\n",
       "$hair\n",
       "  harpo groucho   zeppo   chico   gummo \n",
       "   <NA>    <NA>    <NA>    <NA>    <NA> \n",
       "Levels: \n",
       "\n",
       "$birthOrder\n",
       "[1] 2 3 5 1 4\n"
      ]
     },
     "metadata": {},
     "output_type": "display_data"
    },
    {
     "data": {
      "text/html": [
       "<ol class=list-inline>\n",
       "\t<li>'R'</li>\n",
       "\t<li>'Q'</li>\n",
       "\t<li>'P'</li>\n",
       "\t<li>'O'</li>\n",
       "\t<li>'N'</li>\n",
       "\t<li>'M'</li>\n",
       "\t<li>'L'</li>\n",
       "\t<li>'K'</li>\n",
       "\t<li>'J'</li>\n",
       "\t<li>'I'</li>\n",
       "\t<li>'H'</li>\n",
       "\t<li>'G'</li>\n",
       "\t<li>'F'</li>\n",
       "\t<li>'E'</li>\n",
       "\t<li>'D'</li>\n",
       "\t<li>'C'</li>\n",
       "\t<li>'B'</li>\n",
       "</ol>\n"
      ],
      "text/latex": [
       "\\begin{enumerate*}\n",
       "\\item 'R'\n",
       "\\item 'Q'\n",
       "\\item 'P'\n",
       "\\item 'O'\n",
       "\\item 'N'\n",
       "\\item 'M'\n",
       "\\item 'L'\n",
       "\\item 'K'\n",
       "\\item 'J'\n",
       "\\item 'I'\n",
       "\\item 'H'\n",
       "\\item 'G'\n",
       "\\item 'F'\n",
       "\\item 'E'\n",
       "\\item 'D'\n",
       "\\item 'C'\n",
       "\\item 'B'\n",
       "\\end{enumerate*}\n"
      ],
      "text/markdown": [
       "1. 'R'\n",
       "2. 'Q'\n",
       "3. 'P'\n",
       "4. 'O'\n",
       "5. 'N'\n",
       "6. 'M'\n",
       "7. 'L'\n",
       "8. 'K'\n",
       "9. 'J'\n",
       "10. 'I'\n",
       "11. 'H'\n",
       "12. 'G'\n",
       "13. 'F'\n",
       "14. 'E'\n",
       "15. 'D'\n",
       "16. 'C'\n",
       "17. 'B'\n",
       "\n",
       "\n"
      ],
      "text/plain": [
       " [1] \"R\" \"Q\" \"P\" \"O\" \"N\" \"M\" \"L\" \"K\" \"J\" \"I\" \"H\" \"G\" \"F\" \"E\" \"D\" \"C\" \"B\""
      ]
     },
     "metadata": {},
     "output_type": "display_data"
    }
   ],
   "source": [
    "as.list(dd2)\n",
    "ee <- c(dd2, list(justABunchOfLetters = letters[1:16], anotherBunchOfLetters = LETTERS[18:2]))\n",
    "ee$anotherBunchOfLetters"
   ]
  },
  {
   "cell_type": "code",
   "execution_count": 34,
   "metadata": {
    "collapsed": false
   },
   "outputs": [
    {
     "data": {
      "text/html": [
       "<dl>\n",
       "\t<dt>$birthOrder</dt>\n",
       "\t\t<dd><ol class=list-inline>\n",
       "\t<li>2</li>\n",
       "\t<li>3</li>\n",
       "\t<li>5</li>\n",
       "\t<li>1</li>\n",
       "\t<li>4</li>\n",
       "</ol>\n",
       "</dd>\n",
       "\t<dt>$justABunchOfLetters</dt>\n",
       "\t\t<dd><ol class=list-inline>\n",
       "\t<li>'a'</li>\n",
       "\t<li>'b'</li>\n",
       "\t<li>'c'</li>\n",
       "\t<li>'d'</li>\n",
       "\t<li>'e'</li>\n",
       "\t<li>'f'</li>\n",
       "\t<li>'g'</li>\n",
       "\t<li>'h'</li>\n",
       "\t<li>'i'</li>\n",
       "\t<li>'j'</li>\n",
       "\t<li>'k'</li>\n",
       "\t<li>'l'</li>\n",
       "\t<li>'m'</li>\n",
       "\t<li>'n'</li>\n",
       "\t<li>'o'</li>\n",
       "\t<li>'p'</li>\n",
       "</ol>\n",
       "</dd>\n",
       "</dl>\n"
      ],
      "text/latex": [
       "\\begin{description}\n",
       "\\item[\\$birthOrder] \\begin{enumerate*}\n",
       "\\item 2\n",
       "\\item 3\n",
       "\\item 5\n",
       "\\item 1\n",
       "\\item 4\n",
       "\\end{enumerate*}\n",
       "\n",
       "\\item[\\$justABunchOfLetters] \\begin{enumerate*}\n",
       "\\item 'a'\n",
       "\\item 'b'\n",
       "\\item 'c'\n",
       "\\item 'd'\n",
       "\\item 'e'\n",
       "\\item 'f'\n",
       "\\item 'g'\n",
       "\\item 'h'\n",
       "\\item 'i'\n",
       "\\item 'j'\n",
       "\\item 'k'\n",
       "\\item 'l'\n",
       "\\item 'm'\n",
       "\\item 'n'\n",
       "\\item 'o'\n",
       "\\item 'p'\n",
       "\\end{enumerate*}\n",
       "\n",
       "\\end{description}\n"
      ],
      "text/markdown": [
       "$birthOrder\n",
       ":   1. 2\n",
       "2. 3\n",
       "3. 5\n",
       "4. 1\n",
       "5. 4\n",
       "\n",
       "\n",
       "\n",
       "$justABunchOfLetters\n",
       ":   1. 'a'\n",
       "2. 'b'\n",
       "3. 'c'\n",
       "4. 'd'\n",
       "5. 'e'\n",
       "6. 'f'\n",
       "7. 'g'\n",
       "8. 'h'\n",
       "9. 'i'\n",
       "10. 'j'\n",
       "11. 'k'\n",
       "12. 'l'\n",
       "13. 'm'\n",
       "14. 'n'\n",
       "15. 'o'\n",
       "16. 'p'\n",
       "\n",
       "\n",
       "\n",
       "\n",
       "\n"
      ],
      "text/plain": [
       "$birthOrder\n",
       "[1] 2 3 5 1 4\n",
       "\n",
       "$justABunchOfLetters\n",
       " [1] \"a\" \"b\" \"c\" \"d\" \"e\" \"f\" \"g\" \"h\" \"i\" \"j\" \"k\" \"l\" \"m\" \"n\" \"o\" \"p\"\n"
      ]
     },
     "metadata": {},
     "output_type": "display_data"
    }
   ],
   "source": [
    "ee[3:4]"
   ]
  },
  {
   "cell_type": "code",
   "execution_count": 35,
   "metadata": {
    "collapsed": false
   },
   "outputs": [
    {
     "data": {
      "text/html": [
       "<ol class=list-inline>\n",
       "\t<li>2</li>\n",
       "\t<li>3</li>\n",
       "\t<li>5</li>\n",
       "\t<li>1</li>\n",
       "\t<li>4</li>\n",
       "</ol>\n"
      ],
      "text/latex": [
       "\\begin{enumerate*}\n",
       "\\item 2\n",
       "\\item 3\n",
       "\\item 5\n",
       "\\item 1\n",
       "\\item 4\n",
       "\\end{enumerate*}\n"
      ],
      "text/markdown": [
       "1. 2\n",
       "2. 3\n",
       "3. 5\n",
       "4. 1\n",
       "5. 4\n",
       "\n",
       "\n"
      ],
      "text/plain": [
       "[1] 2 3 5 1 4"
      ]
     },
     "metadata": {},
     "output_type": "display_data"
    }
   ],
   "source": [
    "ee[[3]]"
   ]
  },
  {
   "cell_type": "code",
   "execution_count": 36,
   "metadata": {
    "collapsed": false
   },
   "outputs": [
    {
     "data": {
      "text/html": [
       "<strong>$birthOrder</strong> = <ol class=list-inline>\n",
       "\t<li>2</li>\n",
       "\t<li>3</li>\n",
       "\t<li>5</li>\n",
       "\t<li>1</li>\n",
       "\t<li>4</li>\n",
       "</ol>\n"
      ],
      "text/latex": [
       "\\textbf{\\$birthOrder} = \\begin{enumerate*}\n",
       "\\item 2\n",
       "\\item 3\n",
       "\\item 5\n",
       "\\item 1\n",
       "\\item 4\n",
       "\\end{enumerate*}\n"
      ],
      "text/markdown": [
       "**$birthOrder** = 1. 2\n",
       "2. 3\n",
       "3. 5\n",
       "4. 1\n",
       "5. 4\n",
       "\n",
       "\n"
      ],
      "text/plain": [
       "$birthOrder\n",
       "[1] 2 3 5 1 4\n"
      ]
     },
     "metadata": {},
     "output_type": "display_data"
    }
   ],
   "source": [
    "ee[3]"
   ]
  },
  {
   "cell_type": "code",
   "execution_count": 37,
   "metadata": {
    "collapsed": false
   },
   "outputs": [
    {
     "data": {
      "text/html": [
       "'integer'"
      ],
      "text/latex": [
       "'integer'"
      ],
      "text/markdown": [
       "'integer'"
      ],
      "text/plain": [
       "[1] \"integer\""
      ]
     },
     "metadata": {},
     "output_type": "display_data"
    }
   ],
   "source": [
    "class(ee[[3]])"
   ]
  },
  {
   "cell_type": "code",
   "execution_count": 38,
   "metadata": {
    "collapsed": false
   },
   "outputs": [
    {
     "data": {
      "text/html": [
       "'list'"
      ],
      "text/latex": [
       "'list'"
      ],
      "text/markdown": [
       "'list'"
      ],
      "text/plain": [
       "[1] \"list\""
      ]
     },
     "metadata": {},
     "output_type": "display_data"
    }
   ],
   "source": [
    "class(ee[3])"
   ]
  },
  {
   "cell_type": "code",
   "execution_count": 39,
   "metadata": {
    "collapsed": false
   },
   "outputs": [
    {
     "data": {
      "text/html": [
       "'list'"
      ],
      "text/latex": [
       "'list'"
      ],
      "text/markdown": [
       "'list'"
      ],
      "text/plain": [
       "[1] \"list\""
      ]
     },
     "metadata": {},
     "output_type": "display_data"
    }
   ],
   "source": [
    "class(ee[3:4])"
   ]
  },
  {
   "cell_type": "markdown",
   "metadata": {},
   "source": [
    "### How to find data\n",
    "When your dataset is small, it's easy to manipulate, but if you want to find or modify things on the fly, you need to be able to search through your objects. The \"grep\" and \"match\" functions are greatly helpful in this regard."
   ]
  },
  {
   "cell_type": "code",
   "execution_count": 40,
   "metadata": {
    "collapsed": false
   },
   "outputs": [
    {
     "data": {
      "text/html": [],
      "text/latex": [],
      "text/markdown": [],
      "text/plain": [
       "integer(0)"
      ]
     },
     "metadata": {},
     "output_type": "display_data"
    }
   ],
   "source": [
    "grep('A', ee$anotherBunchOfLetters)"
   ]
  },
  {
   "cell_type": "code",
   "execution_count": 41,
   "metadata": {
    "collapsed": false
   },
   "outputs": [
    {
     "data": {
      "text/html": [
       "1"
      ],
      "text/latex": [
       "1"
      ],
      "text/markdown": [
       "1"
      ],
      "text/plain": [
       "[1] 1"
      ]
     },
     "metadata": {},
     "output_type": "display_data"
    }
   ],
   "source": [
    "grep('rp', dd2$instrument)"
   ]
  },
  {
   "cell_type": "code",
   "execution_count": 42,
   "metadata": {
    "collapsed": false
   },
   "outputs": [
    {
     "data": {
      "text/html": [
       "'harp'"
      ],
      "text/latex": [
       "'harp'"
      ],
      "text/markdown": [
       "'harp'"
      ],
      "text/plain": [
       "[1] \"harp\""
      ]
     },
     "metadata": {},
     "output_type": "display_data"
    }
   ],
   "source": [
    "grep('rp', dd2$instrument, value = T)"
   ]
  },
  {
   "cell_type": "code",
   "execution_count": 43,
   "metadata": {
    "collapsed": false
   },
   "outputs": [
    {
     "data": {
      "text/html": [
       "<ol class=list-inline>\n",
       "\t<li>NA</li>\n",
       "\t<li>NA</li>\n",
       "\t<li>NA</li>\n",
       "</ol>\n"
      ],
      "text/latex": [
       "\\begin{enumerate*}\n",
       "\\item NA\n",
       "\\item NA\n",
       "\\item NA\n",
       "\\end{enumerate*}\n"
      ],
      "text/markdown": [
       "1. NA\n",
       "2. NA\n",
       "3. NA\n",
       "\n",
       "\n"
      ],
      "text/plain": [
       "[1] NA NA NA"
      ]
     },
     "metadata": {},
     "output_type": "display_data"
    }
   ],
   "source": [
    "match(marxFavs, names(dd2))"
   ]
  },
  {
   "cell_type": "markdown",
   "metadata": {},
   "source": [
    "### At the end of the day\n",
    "Provided you have navigated to a new folder, you can end your session using \"q()\" or \"quit(),\" and you'll be given the option to save your workspace. Do so: you'll find all your objects and history (up to 512 lines, unless you increase the default using \"Sys.setenv(R_HISTSIZE = x)\", where x is the number of lines you'd like to be saved in the history file). You can later double-click the workspace file if you are in windows or simply launch R from within the folder you've left (in Linux and, I think, Mac) to restore the worksession. Alternatively, you can reload it manually using \"load(x)\", where x is the name of your workspace. You can also save any objects you like in the workspace using \"save\"... see documentation for these."
   ]
  },
  {
   "cell_type": "code",
   "execution_count": 44,
   "metadata": {
    "collapsed": true
   },
   "outputs": [],
   "source": [
    "# save()\n",
    "# load()\n",
    "# rm()\n",
    "# quit(); q()"
   ]
  },
  {
   "cell_type": "markdown",
   "metadata": {
    "collapsed": false
   },
   "source": [
    "## Websites for additional information and examples\n",
    "http://kembellab.ca/r-workshop/biodivR/SK_Biodiversity_R.html\n",
    "\n",
    "http://www.mpcm-evolution.org/practice/online-practical-material-chapter-4/chapter-4-1-codes-used-produce-twelve-figures-chapter"
   ]
  }
 ],
 "metadata": {
  "anaconda-cloud": {},
  "kernelspec": {
   "display_name": "R",
   "language": "R",
   "name": "ir"
  },
  "language_info": {
   "codemirror_mode": "r",
   "file_extension": ".r",
   "mimetype": "text/x-r-source",
   "name": "R",
   "pygments_lexer": "r",
   "version": "3.3.2"
  }
 },
 "nbformat": 4,
 "nbformat_minor": 0
}
