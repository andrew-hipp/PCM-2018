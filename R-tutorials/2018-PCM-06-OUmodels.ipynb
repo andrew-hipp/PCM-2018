{
 "cells": [
  {
   "cell_type": "markdown",
   "metadata": {},
   "source": [
    "# CEB 35300, Phylogenetic Comparative Methods \n",
    "## University of Chicago, 2018<br>Andrew Hipp, ahipp@mortonarb.org\n",
    "### Session 6: Ornstein-Uhlenbeck models"
   ]
  },
  {
   "cell_type": "markdown",
   "metadata": {},
   "source": [
    "This week, we are going to focus on how O-U models work, exploring the implementation described in Butler and King's (2004) paper. We won't create a full-blown implementation that you would analyze data with, because there are already many good ones (see the last section of this tutorial for pointers to packages you may use to analyze your data). \n",
    "\n",
    "Instead, we'll focus on understanding how the elements of the O-U model implementations work, so they don't seem like magic (they aren't, though they are pretty cool!). You already know how generalized least squares works, and the O-U model implementation described in Butler and King uses the same machinery."
   ]
  },
  {
   "cell_type": "markdown",
   "metadata": {},
   "source": [
    "#### Get an example tree\n",
    "Let's first make a small tree we can play with. Usually in this class, we have been simulating trees, but here we're going to build a tree that has a simple structure that allows us to see what it looks like for species to have evolved in one, two, or three regimes. Note that this tree is _far too small_ for an actual analysis of trait evolution under any reasonable O-U model, let alone a three-regime O-U model, which would have:\n",
    "* one Brownian motion rate parameter, $\\sigma$\n",
    "* one rate of adaptation parameter, $\\alpha$\n",
    "* three optimum parameters, $\\theta_i$ (where $i = {1,2,3}$)\n",
    "\n",
    "for a total of $K = 5$ parameters on a tree with 6 tips. _Too many parameters for our dataset_ (recall the rule of thumb: 10-20 data points per free parameter). But a larger tree would be too difficult to read.\n",
    "\n",
    "So let's make our tree:"
   ]
  },
  {
   "cell_type": "code",
   "execution_count": 39,
   "metadata": {
    "collapsed": false
   },
   "outputs": [
    {
     "data": {
      "image/png": "[encoded data removed]",
      "text/plain": [
       "plot without title"
      ]
     },
     "metadata": {},
     "output_type": "display_data"
    }
   ],
   "source": [
    "library(ape)\n",
    "options(repr.plot.width=10, repr.plot.height=4)\n",
    "par(mar = c(0,0,2,0))\n",
    "tr <- list(edge = matrix(c(7L, 9L,\n",
    "                          9L, 10L,\n",
    "                          10L, 11L,\n",
    "                          11L, 4L,\n",
    "                          11L, 5L,\n",
    "                          10L, 3L, \n",
    "                          9L, 6L,\n",
    "                          7L, 8L,\n",
    "                          8L, 1L,\n",
    "                          8L, 2L), ncol = 2, byrow = T, dimnames = list(NULL, c('anc', 'desc'))), \n",
    "          edge.length = c(0.527646570653822, 0.0921654720483081, \n",
    "                          0.0570646922113782, 0.323123264983397, \n",
    "                          0.323123264983397, 0.380187957176582, \n",
    "                          0.472353429285534, 0.673568669210027, \n",
    "                          0.326431330789973, 0.326431330789973), \n",
    "          Nnode = 5L, \n",
    "          tip.label = c(\"s1\", \"s2\", \"s3\", \"s4\", \"s5\", \"s6\")\n",
    "          )\n",
    "class(tr) <- 'phylo'\n",
    "plot(tr)\n",
    "edgelabels(text = round(tr$edge.length, 3))"
   ]
  },
  {
   "cell_type": "markdown",
   "metadata": {},
   "source": [
    "# Covariance matrix under the O-U model\n",
    "We know the covariance matrix (C) well. Let's look at C for this tree."
   ]
  },
  {
   "cell_type": "code",
   "execution_count": 40,
   "metadata": {
    "collapsed": false
   },
   "outputs": [
    {
     "data": {
      "text/html": [
       "<table>\n",
       "<thead><tr><th></th><th scope=col>s1</th><th scope=col>s2</th><th scope=col>s3</th><th scope=col>s4</th><th scope=col>s5</th><th scope=col>s6</th></tr></thead>\n",
       "<tbody>\n",
       "\t<tr><th scope=row>s1</th><td>1.000</td><td>0.674</td><td>0.000</td><td>0.000</td><td>0.000</td><td>0.000</td></tr>\n",
       "\t<tr><th scope=row>s2</th><td>0.674</td><td>1.000</td><td>0.000</td><td>0.000</td><td>0.000</td><td>0.000</td></tr>\n",
       "\t<tr><th scope=row>s3</th><td>0.000</td><td>0.000</td><td>1.000</td><td>0.620</td><td>0.620</td><td>0.528</td></tr>\n",
       "\t<tr><th scope=row>s4</th><td>0.000</td><td>0.000</td><td>0.620</td><td>1.000</td><td>0.677</td><td>0.528</td></tr>\n",
       "\t<tr><th scope=row>s5</th><td>0.000</td><td>0.000</td><td>0.620</td><td>0.677</td><td>1.000</td><td>0.528</td></tr>\n",
       "\t<tr><th scope=row>s6</th><td>0.000</td><td>0.000</td><td>0.528</td><td>0.528</td><td>0.528</td><td>1.000</td></tr>\n",
       "</tbody>\n",
       "</table>\n"
      ],
      "text/latex": [
       "\\begin{tabular}{r|llllll}\n",
       "  & s1 & s2 & s3 & s4 & s5 & s6\\\\\n",
       "\\hline\n",
       "\ts1 & 1.000 & 0.674 & 0.000 & 0.000 & 0.000 & 0.000\\\\\n",
       "\ts2 & 0.674 & 1.000 & 0.000 & 0.000 & 0.000 & 0.000\\\\\n",
       "\ts3 & 0.000 & 0.000 & 1.000 & 0.620 & 0.620 & 0.528\\\\\n",
       "\ts4 & 0.000 & 0.000 & 0.620 & 1.000 & 0.677 & 0.528\\\\\n",
       "\ts5 & 0.000 & 0.000 & 0.620 & 0.677 & 1.000 & 0.528\\\\\n",
       "\ts6 & 0.000 & 0.000 & 0.528 & 0.528 & 0.528 & 1.000\\\\\n",
       "\\end{tabular}\n"
      ],
      "text/markdown": [
       "\n",
       "| <!--/--> | s1 | s2 | s3 | s4 | s5 | s6 | \n",
       "|---|---|---|---|---|---|\n",
       "| s1 | 1.000 | 0.674 | 0.000 | 0.000 | 0.000 | 0.000 | \n",
       "| s2 | 0.674 | 1.000 | 0.000 | 0.000 | 0.000 | 0.000 | \n",
       "| s3 | 0.000 | 0.000 | 1.000 | 0.620 | 0.620 | 0.528 | \n",
       "| s4 | 0.000 | 0.000 | 0.620 | 1.000 | 0.677 | 0.528 | \n",
       "| s5 | 0.000 | 0.000 | 0.620 | 0.677 | 1.000 | 0.528 | \n",
       "| s6 | 0.000 | 0.000 | 0.528 | 0.528 | 0.528 | 1.000 | \n",
       "\n",
       "\n"
      ],
      "text/plain": [
       "   s1    s2    s3    s4    s5    s6   \n",
       "s1 1.000 0.674 0.000 0.000 0.000 0.000\n",
       "s2 0.674 1.000 0.000 0.000 0.000 0.000\n",
       "s3 0.000 0.000 1.000 0.620 0.620 0.528\n",
       "s4 0.000 0.000 0.620 1.000 0.677 0.528\n",
       "s5 0.000 0.000 0.620 0.677 1.000 0.528\n",
       "s6 0.000 0.000 0.528 0.528 0.528 1.000"
      ]
     },
     "metadata": {},
     "output_type": "display_data"
    }
   ],
   "source": [
    "C = round(vcv(tr), 3) # rounding just so it is easier to read\n",
    "C"
   ]
  },
  {
   "cell_type": "markdown",
   "metadata": {},
   "source": [
    "... and $V = \\sigma^2 C$. \n",
    "\n",
    "From Hansen (1997, 2014) as well as Butler and King (2004, appendix, formula A5) you know what the elements of V are under an O-U model:\n",
    "\n",
    "$$V_{ij} = \\Big( {\\sigma^2 \\over 2 \\alpha} \\Big) e^{-2 \\alpha (T-s_{ij})} (1 - e^{-2 \\alpha s_{ij}}) $$\n",
    "\n",
    "\n",
    "$$\\tilde{V}_{ij} = {e^{-2 \\alpha (T-s_{ij})} (1 - e^{-2 \\alpha s_{ij}}) \\over 2 \\alpha} $$\n",
    "\n",
    "where:\n",
    "* $\\alpha$ is the rate of adaptation\n",
    "* $\\sigma^2$ is the Brownian motion rate parameter\n",
    "* $T$ is the tree depth\n",
    "* $s_{ij}$ is the covariance between taxa $i$ and $j$, i.e., the distance from the MRCA of two tips to the root of the tree.\n",
    "\n",
    "As $\\alpha \\to 0$, $V_{OU}$ should converge on $V_{Brownian motion}$, where each element $V_{ij} = \\sigma^2 s_{ij}$. Let's see if it does:"
   ]
  },
  {
   "cell_type": "code",
   "execution_count": 41,
   "metadata": {
    "collapsed": false
   },
   "outputs": [
    {
     "data": {
      "text/html": [
       "<table>\n",
       "<thead><tr><th></th><th scope=col>s1</th><th scope=col>s2</th><th scope=col>s3</th><th scope=col>s4</th><th scope=col>s5</th><th scope=col>s6</th></tr></thead>\n",
       "<tbody>\n",
       "\t<tr><th scope=row>s1</th><td>1.000</td><td>0.674</td><td>0.000</td><td>0.000</td><td>0.000</td><td>0.000</td></tr>\n",
       "\t<tr><th scope=row>s2</th><td>0.674</td><td>1.000</td><td>0.000</td><td>0.000</td><td>0.000</td><td>0.000</td></tr>\n",
       "\t<tr><th scope=row>s3</th><td>0.000</td><td>0.000</td><td>1.000</td><td>0.620</td><td>0.620</td><td>0.528</td></tr>\n",
       "\t<tr><th scope=row>s4</th><td>0.000</td><td>0.000</td><td>0.620</td><td>1.000</td><td>0.677</td><td>0.528</td></tr>\n",
       "\t<tr><th scope=row>s5</th><td>0.000</td><td>0.000</td><td>0.620</td><td>0.677</td><td>1.000</td><td>0.528</td></tr>\n",
       "\t<tr><th scope=row>s6</th><td>0.000</td><td>0.000</td><td>0.528</td><td>0.528</td><td>0.528</td><td>1.000</td></tr>\n",
       "</tbody>\n",
       "</table>\n"
      ],
      "text/latex": [
       "\\begin{tabular}{r|llllll}\n",
       "  & s1 & s2 & s3 & s4 & s5 & s6\\\\\n",
       "\\hline\n",
       "\ts1 & 1.000 & 0.674 & 0.000 & 0.000 & 0.000 & 0.000\\\\\n",
       "\ts2 & 0.674 & 1.000 & 0.000 & 0.000 & 0.000 & 0.000\\\\\n",
       "\ts3 & 0.000 & 0.000 & 1.000 & 0.620 & 0.620 & 0.528\\\\\n",
       "\ts4 & 0.000 & 0.000 & 0.620 & 1.000 & 0.677 & 0.528\\\\\n",
       "\ts5 & 0.000 & 0.000 & 0.620 & 0.677 & 1.000 & 0.528\\\\\n",
       "\ts6 & 0.000 & 0.000 & 0.528 & 0.528 & 0.528 & 1.000\\\\\n",
       "\\end{tabular}\n"
      ],
      "text/markdown": [
       "\n",
       "| <!--/--> | s1 | s2 | s3 | s4 | s5 | s6 | \n",
       "|---|---|---|---|---|---|\n",
       "| s1 | 1.000 | 0.674 | 0.000 | 0.000 | 0.000 | 0.000 | \n",
       "| s2 | 0.674 | 1.000 | 0.000 | 0.000 | 0.000 | 0.000 | \n",
       "| s3 | 0.000 | 0.000 | 1.000 | 0.620 | 0.620 | 0.528 | \n",
       "| s4 | 0.000 | 0.000 | 0.620 | 1.000 | 0.677 | 0.528 | \n",
       "| s5 | 0.000 | 0.000 | 0.620 | 0.677 | 1.000 | 0.528 | \n",
       "| s6 | 0.000 | 0.000 | 0.528 | 0.528 | 0.528 | 1.000 | \n",
       "\n",
       "\n"
      ],
      "text/plain": [
       "   s1    s2    s3    s4    s5    s6   \n",
       "s1 1.000 0.674 0.000 0.000 0.000 0.000\n",
       "s2 0.674 1.000 0.000 0.000 0.000 0.000\n",
       "s3 0.000 0.000 1.000 0.620 0.620 0.528\n",
       "s4 0.000 0.000 0.620 1.000 0.677 0.528\n",
       "s5 0.000 0.000 0.620 0.677 1.000 0.528\n",
       "s6 0.000 0.000 0.528 0.528 0.528 1.000"
      ]
     },
     "metadata": {},
     "output_type": "display_data"
    }
   ],
   "source": [
    "V <- function(tr, alpha = 0.1, rescale = T) {\n",
    "     Tm = max(node.depth.edgelength(tr))\n",
    "     C = vcv(tr)\n",
    "     out = (1 / 2*alpha) * exp(-2 * alpha * (Tm-C)) * (1 - exp(-2 * alpha * C))\n",
    "     if(rescale) out <- out / max(out)\n",
    "     return(out)\n",
    "     }\n",
    "round(V(tr, 0.00001), 3)"
   ]
  },
  {
   "cell_type": "markdown",
   "metadata": {},
   "source": [
    "and it does! Note that at $\\alpha = 0$, $V_{OU}$ becomes undefined, so we just use a low value of $\\alpha$ here.\n",
    "\n",
    "On your own, take a moment and run this function with various levels of $\\alpha$ to see what the covariance structure looks like. If you are feeling adventurous (and I hope you are!), compare $\\alpha$ transformations to $\\lambda$ transformations for the same tree."
   ]
  },
  {
   "cell_type": "markdown",
   "metadata": {},
   "source": [
    "# The weight matrix: downweighting the past\n",
    "The second new element of the O-U model is a weight matrix. \"What is this weight matrix,\" you may ask, \"and why do we want it?\" Think about the evolutionary path describing the history that a species has passed through from the root of the tree to the common day. Imagine a phylogeny that has three adaptive regimes (high, medium and low rainfall, for example; or three host organisms if you are looking at a bacterium or endophytic fungus):"
   ]
  },
  {
   "cell_type": "code",
   "execution_count": 42,
   "metadata": {
    "collapsed": false
   },
   "outputs": [
    {
     "data": {
      "image/png": "[encoded data removed]",
      "text/plain": [
       "Plot with title \"Original tree\""
      ]
     },
     "metadata": {},
     "output_type": "display_data"
    }
   ],
   "source": [
    "library(geiger)\n",
    "b = 'black'; r = 'red'; y = 'yellow'\n",
    "regimes = c(b, r, y, y, y, r, r, b, b, b)\n",
    "par(mar = c(0,0,2,0))\n",
    "plot(tr, edge.color = regimes, main = 'Original tree')"
   ]
  },
  {
   "cell_type": "markdown",
   "metadata": {},
   "source": [
    "You can see that taxa s1 and s2 evolved only in one regime, while taxa s3 and s6 evolved in 2 and s4 and s5 evolved in three different selective regimes. Intuitively, you would expect a taxon's current selective regime to have more effect on that taxon's phenotype. If there is any phylogenetic signal, however, even past selective regimes have an effect on the distribution of observed phenotypes.\n",
    "\n",
    "The discounting of the past, or the pull of the present, is even more dramatic when natural selection is strong. Take a look at a tree rescaled to an OU $\\alpha = 3$, equivalent to $t_{1/2} = ln(2) / \\alpha = 0.231$:"
   ]
  },
  {
   "cell_type": "code",
   "execution_count": 43,
   "metadata": {
    "collapsed": false
   },
   "outputs": [
    {
     "data": {
      "image/png": "[encoded data removed]",
      "text/plain": [
       "Plot with title \"O-U tree, alpha = 3\""
      ]
     },
     "metadata": {},
     "output_type": "display_data"
    }
   ],
   "source": [
    "plot(geiger:::rescale.phylo(tr, 'OU', 3), edge.color = regimes, main = 'O-U tree, alpha = 3')"
   ]
  },
  {
   "cell_type": "markdown",
   "metadata": {},
   "source": [
    "We use the weight matrix $W_{ik}$ to weight each of $k$ regimes for each taxon $i$ by the amount of time each taxon has spent in each regime, discounting the past appropriately. $W_{ik}$ is a matrix with $k$ columns (corresponding to the number of regimes) and $i$ rows (corresponding to the number of species). Thus, for our tree, $W_{ik}$ will be a 6 x 3 matrix. \n",
    "\n",
    "Let's see how we calculate the weight matrix. For each branch, we calculate its individual weight as:\n",
    "\n",
    "$$e^{\\alpha t_i^\\gamma} - e^{\\alpha t_i^{\\gamma-1}}$$\n",
    "\n",
    "where $t_i^\\gamma$ is the ending time of the branch and $t_i^{\\gamma-1}$ is the starting time.... time in this formulation proceeds from $t = 0$ at the root of the tree to $t = T$ at the tips. So let's get all those individual branch weights:"
   ]
  },
  {
   "cell_type": "code",
   "execution_count": 44,
   "metadata": {
    "collapsed": false
   },
   "outputs": [
    {
     "name": "stdout",
     "output_type": "stream",
     "text": [
      "[1] \"example weights\"\n"
     ]
    },
    {
     "data": {
      "text/html": [
       "<table>\n",
       "<thead><tr><th scope=col>edge.t</th><th scope=col>edge.l</th><th scope=col>w_0.1</th><th scope=col>w_1.0</th><th scope=col>w_5.0</th></tr></thead>\n",
       "<tbody>\n",
       "\t<tr><td>0.000  </td><td>0.528  </td><td>0.054  </td><td>0.695  </td><td> 12.988</td></tr>\n",
       "\t<tr><td>0.528  </td><td>0.092  </td><td>0.010  </td><td>0.164  </td><td>  8.189</td></tr>\n",
       "\t<tr><td>0.620  </td><td>0.057  </td><td>0.006  </td><td>0.109  </td><td>  7.323</td></tr>\n",
       "\t<tr><td>0.677  </td><td>0.323  </td><td>0.035  </td><td>0.751  </td><td>118.913</td></tr>\n",
       "\t<tr><td>0.677  </td><td>0.323  </td><td>0.035  </td><td>0.751  </td><td>118.913</td></tr>\n",
       "\t<tr><td>0.620  </td><td>0.380  </td><td>0.041  </td><td>0.860  </td><td>126.236</td></tr>\n",
       "\t<tr><td>0.528  </td><td>0.472  </td><td>0.051  </td><td>1.023  </td><td>134.425</td></tr>\n",
       "\t<tr><td>0.000  </td><td>0.674  </td><td>0.070  </td><td>0.961  </td><td> 28.016</td></tr>\n",
       "\t<tr><td>0.674  </td><td>0.326  </td><td>0.035  </td><td>0.757  </td><td>119.397</td></tr>\n",
       "\t<tr><td>0.674  </td><td>0.326  </td><td>0.035  </td><td>0.757  </td><td>119.397</td></tr>\n",
       "</tbody>\n",
       "</table>\n"
      ],
      "text/latex": [
       "\\begin{tabular}{lllll}\n",
       " edge.t & edge.l & w\\_0.1 & w\\_1.0 & w\\_5.0\\\\\n",
       "\\hline\n",
       "\t 0.000   & 0.528   & 0.054   & 0.695   &  12.988\\\\\n",
       "\t 0.528   & 0.092   & 0.010   & 0.164   &   8.189\\\\\n",
       "\t 0.620   & 0.057   & 0.006   & 0.109   &   7.323\\\\\n",
       "\t 0.677   & 0.323   & 0.035   & 0.751   & 118.913\\\\\n",
       "\t 0.677   & 0.323   & 0.035   & 0.751   & 118.913\\\\\n",
       "\t 0.620   & 0.380   & 0.041   & 0.860   & 126.236\\\\\n",
       "\t 0.528   & 0.472   & 0.051   & 1.023   & 134.425\\\\\n",
       "\t 0.000   & 0.674   & 0.070   & 0.961   &  28.016\\\\\n",
       "\t 0.674   & 0.326   & 0.035   & 0.757   & 119.397\\\\\n",
       "\t 0.674   & 0.326   & 0.035   & 0.757   & 119.397\\\\\n",
       "\\end{tabular}\n"
      ],
      "text/markdown": [
       "\n",
       "edge.t | edge.l | w_0.1 | w_1.0 | w_5.0 | \n",
       "|---|---|---|---|---|---|---|---|---|---|\n",
       "| 0.000   | 0.528   | 0.054   | 0.695   |  12.988 | \n",
       "| 0.528   | 0.092   | 0.010   | 0.164   |   8.189 | \n",
       "| 0.620   | 0.057   | 0.006   | 0.109   |   7.323 | \n",
       "| 0.677   | 0.323   | 0.035   | 0.751   | 118.913 | \n",
       "| 0.677   | 0.323   | 0.035   | 0.751   | 118.913 | \n",
       "| 0.620   | 0.380   | 0.041   | 0.860   | 126.236 | \n",
       "| 0.528   | 0.472   | 0.051   | 1.023   | 134.425 | \n",
       "| 0.000   | 0.674   | 0.070   | 0.961   |  28.016 | \n",
       "| 0.674   | 0.326   | 0.035   | 0.757   | 119.397 | \n",
       "| 0.674   | 0.326   | 0.035   | 0.757   | 119.397 | \n",
       "\n",
       "\n"
      ],
      "text/plain": [
       "      edge.t edge.l w_0.1 w_1.0 w_5.0  \n",
       " [1,] 0.000  0.528  0.054 0.695  12.988\n",
       " [2,] 0.528  0.092  0.010 0.164   8.189\n",
       " [3,] 0.620  0.057  0.006 0.109   7.323\n",
       " [4,] 0.677  0.323  0.035 0.751 118.913\n",
       " [5,] 0.677  0.323  0.035 0.751 118.913\n",
       " [6,] 0.620  0.380  0.041 0.860 126.236\n",
       " [7,] 0.528  0.472  0.051 1.023 134.425\n",
       " [8,] 0.000  0.674  0.070 0.961  28.016\n",
       " [9,] 0.674  0.326  0.035 0.757 119.397\n",
       "[10,] 0.674  0.326  0.035 0.757 119.397"
      ]
     },
     "metadata": {},
     "output_type": "display_data"
    }
   ],
   "source": [
    "w.branch = function(tr, alpha = 0.1) {\n",
    "    t_i.mat <- apply(tr$edge, 1:2, function(x) node.depth.edgelength(tr)[x])\n",
    "    exp(alpha * t_i.mat[, 2]) - exp(alpha * t_i.mat[, 1]) \n",
    "}\n",
    "\n",
    "print('example weights')\n",
    "round(cbind(edge.t = node.depth.edgelength(tr)[tr$edge[, 1]],\n",
    "            edge.l = tr$edge.length,\n",
    "            w_0.1= w.branch(tr),\n",
    "            w_1.0 = w.branch(tr, alpha = 1),\n",
    "            w_5.0 = w.branch(tr, alpha = 5)),\n",
    "      3)"
   ]
  },
  {
   "cell_type": "markdown",
   "metadata": {},
   "source": [
    "Now, we need to know which branches each tip passes through. We can get the nodes using the `Ancestors` function in [phangorn](https://cran.r-project.org/web/packages/phangorn/index.html), then turn these nodes into branches by looking up the edges:"
   ]
  },
  {
   "cell_type": "code",
   "execution_count": 45,
   "metadata": {
    "collapsed": false
   },
   "outputs": [
    {
     "name": "stdout",
     "output_type": "stream",
     "text": [
      "$s1\n",
      "[1] 8 9\n",
      "\n",
      "$s2\n",
      "[1]  8 10\n",
      "\n",
      "$s3\n",
      "[1] 1 2 6\n",
      "\n",
      "$s4\n",
      "[1] 1 2 3 4\n",
      "\n",
      "$s5\n",
      "[1] 1 2 3 5\n",
      "\n",
      "$s6\n",
      "[1] 1 7\n",
      "\n"
     ]
    }
   ],
   "source": [
    "library(phangorn)\n",
    "node.list <- lapply(1:length(tr$tip.label), function(i) c(i, Ancestors(tr, i)))\n",
    "edge.list <- lapply(node.list, function(x) which(tr$edge[, 2] %in% x))\n",
    "names(edge.list) <- tr$tip.label\n",
    "print(edge.list)"
   ]
  },
  {
   "cell_type": "markdown",
   "metadata": {},
   "source": [
    "As an exercise, look at the test tree and use `edgelabels()` to convince yourself that we've got it right.\n",
    "\n",
    "Now, we already have a vector that tells us which branch is in which regime:"
   ]
  },
  {
   "cell_type": "markdown",
   "metadata": {
    "collapsed": false
   },
   "source": [
    "# regimes\n",
    "regimes.col <- regimes\n",
    "regimes[regimes == 'black'] <- 1\n",
    "regimes[regimes == 'red'] <- 2\n",
    "regimes[regimes == 'yellow'] <- 3\n",
    "regimes <- as.integer(regimes)\n",
    "regimes"
   ]
  },
  {
   "cell_type": "markdown",
   "metadata": {},
   "source": [
    "Combining this with the list above using `intersect`, we can say for each species $i$ what its weighting should be for each regime $k$. We'll use a nested loop to make very clear how this works, using $\\alpha$ = 1"
   ]
  },
  {
   "cell_type": "code",
   "execution_count": 46,
   "metadata": {
    "collapsed": false
   },
   "outputs": [
    {
     "data": {
      "text/html": [
       "<table>\n",
       "<thead><tr><th></th><th scope=col>0</th><th scope=col>black</th><th scope=col>red</th><th scope=col>yellow</th></tr></thead>\n",
       "<tbody>\n",
       "\t<tr><th scope=row>s1</th><td>0.3678794 </td><td>0.6321206 </td><td>0.00000000</td><td>0.0000000 </td></tr>\n",
       "\t<tr><th scope=row>s2</th><td>0.3678794 </td><td>0.6321206 </td><td>0.00000000</td><td>0.0000000 </td></tr>\n",
       "\t<tr><th scope=row>s3</th><td>0.3678794 </td><td>0.2556537 </td><td>0.37646690</td><td>0.0000000 </td></tr>\n",
       "\t<tr><th scope=row>s4</th><td>0.3678794 </td><td>0.2556537 </td><td>0.06019979</td><td>0.3162671 </td></tr>\n",
       "\t<tr><th scope=row>s5</th><td>0.3678794 </td><td>0.2556537 </td><td>0.06019979</td><td>0.3162671 </td></tr>\n",
       "\t<tr><th scope=row>s6</th><td>0.3678794 </td><td>0.2556537 </td><td>0.37646690</td><td>0.0000000 </td></tr>\n",
       "</tbody>\n",
       "</table>\n"
      ],
      "text/latex": [
       "\\begin{tabular}{r|llll}\n",
       "  & 0 & black & red & yellow\\\\\n",
       "\\hline\n",
       "\ts1 & 0.3678794  & 0.6321206  & 0.00000000 & 0.0000000 \\\\\n",
       "\ts2 & 0.3678794  & 0.6321206  & 0.00000000 & 0.0000000 \\\\\n",
       "\ts3 & 0.3678794  & 0.2556537  & 0.37646690 & 0.0000000 \\\\\n",
       "\ts4 & 0.3678794  & 0.2556537  & 0.06019979 & 0.3162671 \\\\\n",
       "\ts5 & 0.3678794  & 0.2556537  & 0.06019979 & 0.3162671 \\\\\n",
       "\ts6 & 0.3678794  & 0.2556537  & 0.37646690 & 0.0000000 \\\\\n",
       "\\end{tabular}\n"
      ],
      "text/markdown": [
       "\n",
       "| <!--/--> | 0 | black | red | yellow | \n",
       "|---|---|---|---|---|---|\n",
       "| s1 | 0.3678794  | 0.6321206  | 0.00000000 | 0.0000000  | \n",
       "| s2 | 0.3678794  | 0.6321206  | 0.00000000 | 0.0000000  | \n",
       "| s3 | 0.3678794  | 0.2556537  | 0.37646690 | 0.0000000  | \n",
       "| s4 | 0.3678794  | 0.2556537  | 0.06019979 | 0.3162671  | \n",
       "| s5 | 0.3678794  | 0.2556537  | 0.06019979 | 0.3162671  | \n",
       "| s6 | 0.3678794  | 0.2556537  | 0.37646690 | 0.0000000  | \n",
       "\n",
       "\n"
      ],
      "text/plain": [
       "   0         black     red        yellow   \n",
       "s1 0.3678794 0.6321206 0.00000000 0.0000000\n",
       "s2 0.3678794 0.6321206 0.00000000 0.0000000\n",
       "s3 0.3678794 0.2556537 0.37646690 0.0000000\n",
       "s4 0.3678794 0.2556537 0.06019979 0.3162671\n",
       "s5 0.3678794 0.2556537 0.06019979 0.3162671\n",
       "s6 0.3678794 0.2556537 0.37646690 0.0000000"
      ]
     },
     "metadata": {},
     "output_type": "display_data"
    }
   ],
   "source": [
    "W <- function(tr, regimes, alpha = 1) {\n",
    "    Tm = max(node.depth.edgelength(tr))\n",
    "    out <- matrix(NA, \n",
    "                  nrow = length(tr$tip.label), \n",
    "                  ncol = length(unique(regimes)) + 1,\n",
    "                  dimnames = list(sort(tr$tip.label), c(0,sort(unique(regimes))))\n",
    "                  )\n",
    "    w.temp <- w.branch(tr, alpha)\n",
    "    for(i in tr$tip.label) {\n",
    "    for(k in unique(regimes)) {\n",
    "        out[i, as.character(k)] <- exp(-alpha * Tm) * sum(w.temp[intersect(edge.list[[i]], which(regimes == k))])\n",
    "    }\n",
    "  }\n",
    "  out[, '0'] <- exp(-alpha * Tm) \n",
    "  out\n",
    "}\n",
    "W(tr, regimes)"
   ]
  },
  {
   "cell_type": "markdown",
   "metadata": {
    "collapsed": false
   },
   "source": [
    "As you can see, s4 and s5 each have some weight in all three regimes, and the regime closest to the present has greatest weight... but even ancestral regimes have some weight under this relatively low $\\alpha$, and $C$ will also come to bear on the outcome."
   ]
  },
  {
   "cell_type": "markdown",
   "metadata": {},
   "source": [
    "# Implementations\n",
    "Now that you understand how the O-U model is built, you are probably just _dying_ to try it out with your data, or with the sample data provided with this class. There are many O-U implementations. If you want an entry point, you might try these:\n",
    "\n",
    "* [ouch](https://cran.r-project.org/web/packages/ouch/) is the implementation that really made O-U models practical. Focuses on discrete models with a single $\\alpha$ and single $\\sigma$, but multiple selective regimes.\n",
    "* [OUwie](https://cran.r-project.org/web/packages/OUwie/) extends the parameter space presented in `ouch`, allowing multiple $\\alpha$ and $\\sigma$.\n",
    "* [mvSLOUCH](https://cran.r-project.org/web/packages/mvSLOUCH/index.html) implements the stochastic linear O-U model of Hansen et al. 2008 and the multiple responses extension of Bartoszek et al. 2012. I have used the old SLOUCH quite a bit, but it was implemented as a set of scripts, not a true package, and was not straightforward to use. I have not used `mvSLOUCH`, but this is where I would start if I were going to use Hansen's 2008 approach.\n",
    "* [l1ou](https://github.com/khabbazian/l1ou) uses a sophisticated search approach, a novel information criterion tailored to model-selection in a phylogenetic framework, and iterative searching to investigate convergence. This approach also allows for multiple traits to be evolving according to a single suite of selective regimes, but as it does not take into account correlation structure among these, it is not fully multivarite. `l1ou` is not on CRAN. To install, use: \n",
    "```\n",
    "install.packages(\"devtools\")\n",
    "install_github(\"khabbazian/l1ou\")\n",
    "```\n",
    "I used this method in our [2018 oak convergence paper](https://github.com/andrew-hipp/oak-convergence-2017), for which all code is provided in this link. \n",
    "* [PhylogeneticEM](https://cran.r-project.org/web/packages/PhylogeneticEM/index.html) builds on `l1ou`, taking into account correlation structure among traits. The method is rather new ([Bastide et al. 2018](https://academic.oup.com/sysbio/advance-article/doi/10.1093/sysbio/syy005/4827615)), and I have not yet taken the package for a drive.\n",
    "* [bayou](https://cran.r-project.org/web/packages/bayou/) uses rjMCMC to traverse among O-U models, investigating where changes in selective regime have occurred. One can also evaluate the likelihood of any particular O-U configuration.\n",
    "* [phylolm](https://cran.r-project.org/web/packages/phylolm/index.html) provides functions for fitting phylogenetic linear models and generalized linear models, including O-U models. I have used this package for all three approaches and found it easy to use.\n",
    "\n",
    "As popular as Ornstein-Uhlenbeck models have become, I'm sure there are other implementations out there. I have not included non-R implementations here (e.g., Emilia Martins' [COMPARE](http://www.indiana.edu/~martinsl/compare/), which was perhaps the first O-U implementation available... and now that I've said I have not included it I guess that I actually have), nor implementations that just estimate the O-U scaling parameter without also fitting multiple selective regimes."
   ]
  }
 ],
 "metadata": {
  "anaconda-cloud": {},
  "kernelspec": {
   "display_name": "R",
   "language": "R",
   "name": "ir"
  },
  "language_info": {
   "codemirror_mode": "r",
   "file_extension": ".r",
   "mimetype": "text/x-r-source",
   "name": "R",
   "pygments_lexer": "r",
   "version": "3.3.2"
  }
 },
 "nbformat": 4,
 "nbformat_minor": 1
}
