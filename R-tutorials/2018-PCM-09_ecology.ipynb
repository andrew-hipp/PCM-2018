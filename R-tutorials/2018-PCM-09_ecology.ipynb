{
 "cells": [
  {
   "cell_type": "markdown",
   "metadata": {},
   "source": [
    "# CEB 35300, Phylogenetic Comparative Methods \n",
    "## University of Chicago, 2018<br>Andrew Hipp, ahipp@mortonarb.org\n",
    "### Session 9: Introduction to phylogenetic diversity"
   ]
  },
  {
   "cell_type": "markdown",
   "metadata": {},
   "source": [
    "There is a whole suite of fun stuff we can do in phylogenetic ecology... more than you can shake a stick at. Here, we're just going to get a start with:\n",
    "1. Phylogenetic diversity: diversity within communities\n",
    "1. Phylogenetic $\\beta$-diversity: diversity among communmities"
   ]
  },
  {
   "cell_type": "markdown",
   "metadata": {},
   "source": [
    "First, let's get some data in here. We'll use data from an ecological experiment, which is sort of odd for these kinds of analyses: usually one uses data from real communities. However, this is a dataset I know well, and it allows us to do all the usual stuff (items 1-3 above) in addition to assess diversity effects (item 4 above), which you can only do directly in an experimental setting... but I get ahead of myself.\n",
    "\n",
    "First a tree, because this _is_ a phylogenetic methods course:"
   ]
  },
  {
   "cell_type": "code",
   "execution_count": 1,
   "metadata": {
    "collapsed": false
   },
   "outputs": [
    {
     "name": "stderr",
     "output_type": "stream",
     "text": [
      "Warning message:\n",
      "\"package 'ape' was built under R version 3.3.3\""
     ]
    },
    {
     "data": {
      "image/png": "[encoded data removed]",
      "text/plain": [
       "plot without title"
      ]
     },
     "metadata": {},
     "output_type": "display_data"
    }
   ],
   "source": [
    "library(ape)\n",
    "\n",
    "options(repr.plot.width=12, repr.plot.height=4) # this is just to make things plot nicely in Jupyter notebook\n",
    "par(mar = rep(0.1, 4))\n",
    "# let's make a little function to make it nicer-looking when we grab data off of Github\n",
    "prairiePath = ('https://raw.githubusercontent.com/andrew-hipp/PCM-2018/master/R-tutorials/DATA/prairie/')\n",
    "pr <- function(x, path = prairiePath) paste(path, x, sep = '')\n",
    "\n",
    "# now let's read and plot our tree\n",
    "tr.prairie <- read.tree(pr('tree.pruned.tre'))\n",
    "plot(tr.prairie, show.tip.label = F)"
   ]
  },
  {
   "cell_type": "markdown",
   "metadata": {},
   "source": [
    "Now let's read in data data on composition, soils, and a little metadata about the plots we are working with:"
   ]
  },
  {
   "cell_type": "code",
   "execution_count": 2,
   "metadata": {
    "collapsed": false
   },
   "outputs": [
    {
     "data": {
      "text/html": [
       "<table>\n",
       "<tbody>\n",
       "\t<tr><th scope=row>blocks</th><td>437</td><td> 14</td></tr>\n",
       "\t<tr><th scope=row>composition</th><td>144</td><td>105</td></tr>\n",
       "\t<tr><th scope=row>plotMeta</th><td>144</td><td>  9</td></tr>\n",
       "\t<tr><th scope=row>bin</th><td>144</td><td>105</td></tr>\n",
       "</tbody>\n",
       "</table>\n"
      ],
      "text/latex": [
       "\\begin{tabular}{r|ll}\n",
       "\tblocks & 437 &  14\\\\\n",
       "\tcomposition & 144 & 105\\\\\n",
       "\tplotMeta & 144 &   9\\\\\n",
       "\tbin & 144 & 105\\\\\n",
       "\\end{tabular}\n"
      ],
      "text/markdown": [
       "\n",
       "| blocks | 437 |  14 | \n",
       "| composition | 144 | 105 | \n",
       "| plotMeta | 144 |   9 | \n",
       "| bin | 144 | 105 | \n",
       "\n",
       "\n"
      ],
      "text/plain": [
       "            [,1] [,2]\n",
       "blocks      437   14 \n",
       "composition 144  105 \n",
       "plotMeta    144    9 \n",
       "bin         144  105 "
      ]
     },
     "metadata": {},
     "output_type": "display_data"
    }
   ],
   "source": [
    "dat <- list(\n",
    "    blocks = read.csv(pr('dat.blocksSoilCover.csv'), row.names = 1, as.is = T),\n",
    "    composition = read.csv(pr('dat.composition.2017.csv'), row.names = 1, as.is = T),\n",
    "    plotMeta = read.csv(pr('dat.cover.meta.2017.csv'), row.names = 1, as.is = T)\n",
    "    )\n",
    "## a little cleanup on two names\n",
    "names(dat$composition) <- gsub('[.-]', '', names(dat$composition))\n",
    "tr.prairie$tip.label <- gsub('[.-]', '', tr.prairie$tip.label)\n",
    "dat$bin <- dat$composition\n",
    "dat$bin[!is.na(dat$bin)] <- 1\n",
    "dat$bin[is.na(dat$bin)] <- 0\n",
    "tr.prairie <- drop.tip(tr.prairie, which(!tr.prairie$tip.label %in% names(dat$bin)))\n",
    "t(sapply(dat, dim)) # shows number of rows and columns for each data.frame\n"
   ]
  },
  {
   "cell_type": "markdown",
   "metadata": {},
   "source": [
    "## 1. Phylogenetic diversity\n",
    "There are three most commonly used metrics of phylogenetic diverisity: PD, MPD, and MNTD\n",
    "\n",
    "1. __PD__, phylogenetic diversity _sensu Faith_. The original formulation of phylogenetic diversity in Faith (1992, _Biological Conservation_ 61: 1-10) was very straightforward: it was the summed branch length in a tree pruned to just the taxa in a community. \n",
    "1. __MPD__, mean pairwise distance. The average pairwise distance between all taxa in a community.\n",
    "1. __MNTD__, mean nearest taxon distance. The average distance from all taxa and their nearest relatives.\n",
    "\n",
    "We can easily calculate each of these. Let's write a function that does all three:"
   ]
  },
  {
   "cell_type": "code",
   "execution_count": 3,
   "metadata": {
    "collapsed": false
   },
   "outputs": [
    {
     "data": {
      "text/html": [
       "<dl class=dl-horizontal>\n",
       "\t<dt>pd</dt>\n",
       "\t\t<dd>3372.4</dd>\n",
       "\t<dt>mpd</dt>\n",
       "\t\t<dd>245.12</dd>\n",
       "\t<dt>mntd</dt>\n",
       "\t\t<dd>37.88</dd>\n",
       "</dl>\n"
      ],
      "text/latex": [
       "\\begin{description*}\n",
       "\\item[pd] 3372.4\n",
       "\\item[mpd] 245.12\n",
       "\\item[mntd] 37.88\n",
       "\\end{description*}\n"
      ],
      "text/markdown": [
       "pd\n",
       ":   3372.4mpd\n",
       ":   245.12mntd\n",
       ":   37.88\n",
       "\n"
      ],
      "text/plain": [
       "     pd     mpd    mntd \n",
       "3372.40  245.12   37.88 "
      ]
     },
     "metadata": {},
     "output_type": "display_data"
    }
   ],
   "source": [
    "phyD <- function(phy, roundDigits = 2) {\n",
    "    out <- c(\n",
    "        pd = sum(phy$edge.length),\n",
    "        mpd = mean(as.dist(cophenetic(phy))),\n",
    "        mntd = mean(apply(cophenetic(phy), 1, function(x) min(x[x > 0])))\n",
    "        )\n",
    "    out <- round(out, roundDigits)\n",
    "    out\n",
    "}\n",
    "phyD(tr.prairie)"
   ]
  },
  {
   "cell_type": "markdown",
   "metadata": {},
   "source": [
    "### Challenge Question 1a\n",
    "With your partner, write a function that calculates pd, mpd, or mntd for all communities in the `dat$bin` object above, and compare with the function of the same name (`pd`, `mpd`, or `mntd`) in the `picante` package. Hint: use `drop.tip` to prune your tree."
   ]
  },
  {
   "cell_type": "markdown",
   "metadata": {},
   "source": [
    "### Challenge Question 1b\n",
    "The phylogenetic level of the plots as designed is lurking in `dat$plotMeta$phyD` (H = high, M = medium, L = low). How well do these levels match the observed phylogenetic diversity? "
   ]
  },
  {
   "cell_type": "markdown",
   "metadata": {},
   "source": [
    "### Challenge Question 2\n",
    "Are mpd, mntd, and pd sample-size sensitive? What about the standardized effect size of each statistic, calculated as the number of standard deviations above (if positive) or below (if negative) the mean statistic, where the mean and $\\sigma$ are estimated by permutation (see `?ses.pd` for more information). Simulate a tree of 1000 taxa, then simulate 200 communities that randomly sample from anywhere from 10 to 1000 taxa. Plot the three statistics against sample size and their three standardized effect sizes against sample size to see how they vary with sample size.\n",
    "* __Hint 1:__ use `sim.bdtree` from `geiger`\n",
    "* __Hint 2:__ the community matrix will be a 1/0 matrix 200 rows $\\times$ 1000 columns\n",
    "* __Hint 3:__ to randomly fill the community matrix, create it full of 0s (read documentation for `matrix`), then index the elements of each row using `sample(1:1000, sample(10:1000, 1))` and fill those elements with 1's\n",
    "* __Hint 4:__ all the documentation you need for pd, ses.pd, and the other functions is in the `caper` package\n"
   ]
  },
  {
   "cell_type": "markdown",
   "metadata": {},
   "source": [
    "## 2. Phylogenetic $\\beta$-diversity"
   ]
  },
  {
   "cell_type": "markdown",
   "metadata": {},
   "source": [
    "Phylogenetic $\\beta$-diversity is the diversity _among_ communities rather than within communities. Graham and Fine 2008 suggest mpd and mntd analogs, where the branch-length distances are between rather than within communities. To calculate these, one would have to create a rectangular matrix with all taxa in one community as rows, and all taxa in the other community as columns. Let's try this together for just two communities:"
   ]
  },
  {
   "cell_type": "code",
   "execution_count": 4,
   "metadata": {
    "collapsed": true
   },
   "outputs": [],
   "source": [
    "tr.prairie.dist <- cophenetic(tr.prairie)\n",
    "comm.1_2 <- tr.prairie.dist[names(dat$bin)[dat$bin[1, ] == 1],\n",
    "                            names(dat$bin)[dat$bin[2, ] == 1]\n",
    "                            ]"
   ]
  },
  {
   "cell_type": "markdown",
   "metadata": {},
   "source": [
    "The array we have just created has the pairwise distances between all taxa in it. Thus $\\beta$-mpd would just be calculated as `mean(comm.1_2)`, while $\\beta$-mntd would be calculated as `mean(apply(comm.1_2, 1, min) + apply(comm.1_2, 2, min))`."
   ]
  },
  {
   "cell_type": "markdown",
   "metadata": {},
   "source": [
    "### Challenge Question 3\n",
    "Create a function that returns $\\beta$-mpd or $\\beta$-mntd for a matrix of communities: the output should be a pairwise distance matrix of dimensions equal in rows and columns to the number of communities in your input matrix."
   ]
  },
  {
   "cell_type": "markdown",
   "metadata": {},
   "source": [
    "### Challenge Question 4\n",
    "Use the function you created above to test whether differences in soil A-horizon depth or any other soil parameter predicts phylogenetic $\\beta$-diversity. Soil data are in `dat$blocks`. You may want to use a Mantel test to test significance of this correlation; see the `vegan` package for this."
   ]
  },
  {
   "cell_type": "markdown",
   "metadata": {},
   "source": [
    "### Challenge Question 5\n",
    "Create a function to calculate the standardized effect size for $\\beta$-mpd or $\\beta$-mntd. Standardized effect sizes are calculated as:\n",
    "\n",
    "$$z = {x-\\mu \\over \\sigma}$$\n",
    "$x$ = observed statistic<br>\n",
    "$\\mu$ = statistic averaged over permutations<br>\n",
    "$\\sigma$ = standard deviation of statistic over permuations"
   ]
  },
  {
   "cell_type": "code",
   "execution_count": null,
   "metadata": {
    "collapsed": true
   },
   "outputs": [],
   "source": []
  }
 ],
 "metadata": {
  "anaconda-cloud": {},
  "kernelspec": {
   "display_name": "R",
   "language": "R",
   "name": "ir"
  },
  "language_info": {
   "codemirror_mode": "r",
   "file_extension": ".r",
   "mimetype": "text/x-r-source",
   "name": "R",
   "pygments_lexer": "r",
   "version": "3.3.2"
  }
 },
 "nbformat": 4,
 "nbformat_minor": 1
}
