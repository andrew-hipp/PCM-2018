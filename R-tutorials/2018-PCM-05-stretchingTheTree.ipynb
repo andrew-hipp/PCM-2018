{
 "cells": [
  {
   "cell_type": "markdown",
   "metadata": {},
   "source": [
    "# CEB 35300, Phylogenetic Comparative Methods \n",
    "## University of Chicago, 2018<br>Andrew Hipp, ahipp@mortonarb.org\n",
    "### Session 5: Parametric bootstrapping and tree stretching models"
   ]
  },
  {
   "cell_type": "markdown",
   "metadata": {},
   "source": [
    "# Parametric bootstrapping\n",
    "Last week, we focused on information theoretic approaches to comparing models. This week, we'll use simulation to compare models and to assess the significance of models, following the framework of Boettiger et al. 2012 (also discussed in O'Meara et al. 2006).\n",
    "\n",
    "## Comparing a one-rate model with a two-rate model\n",
    "\n",
    "Let's start with the example of a very simple censored two-rate model as we discussed in lecture. First let's generate a tree and some data under a single rate:"
   ]
  },
  {
   "cell_type": "code",
   "execution_count": 5,
   "metadata": {
    "collapsed": false
   },
   "outputs": [],
   "source": [
    "library(geiger)\n",
    "tr <- sim.bdtree(n = 20)\n",
    "dat <- sim.char(tr, 1, 1)"
   ]
  },
  {
   "cell_type": "markdown",
   "metadata": {},
   "source": [
    "then let's transform that tree and simulate a second dataset that has two rates:"
   ]
  },
  {
   "cell_type": "code",
   "execution_count": 27,
   "metadata": {
    "collapsed": true
   },
   "outputs": [],
   "source": [
    "tr2 <- ex.ratesimulator(tr, min = 5)\n",
    "dat2 <- sim.char(tr2,1,1)"
   ]
  },
  {
   "cell_type": "code",
   "execution_count": 28,
   "metadata": {
    "collapsed": false
   },
   "outputs": [
    {
     "data": {
      "image/png": "[encoded data removed]",
      "text/plain": [
       "Plot with title \"\""
      ]
     },
     "metadata": {},
     "output_type": "display_data"
    }
   ],
   "source": [
    "layout(matrix(1:3, 1))\n",
    "plot(tr, main = 'original tree')\n",
    "plot(tr2, main = 'rescaled tree')\n",
    "plot(dat[,,1], dat2[,,1], xlab = 'data, raw tree', ylab = 'data, rescaled tree', main = '')"
   ]
  },
  {
   "cell_type": "markdown",
   "metadata": {},
   "source": [
    "Okay. We can use the `geiger` package to estimate the Brownian motion model parameters on these for the single-rate model:"
   ]
  },
  {
   "cell_type": "code",
   "execution_count": 30,
   "metadata": {
    "collapsed": false
   },
   "outputs": [
    {
     "name": "stdout",
     "output_type": "stream",
     "text": [
      "       orig      origOnRescaled rescaled   rescaledOnOrig\n",
      "sigsq  0.9102818 0.5981419      1.05066    19.49736      \n",
      "z0     0.3557321 0.503019       -0.8243075 -1.452863     \n",
      "lnL    -24.5149  -30.27919      -35.91264  -55.1577      \n",
      "method \"Brent\"   \"Brent\"        \"Brent\"    \"Brent\"       \n",
      "k      2         2              2          2             \n",
      "aic    53.02979  64.55838       75.82529   114.3154      \n",
      "aicc   53.73568  65.26426       76.53117   115.0213      \n"
     ]
    }
   ],
   "source": [
    "models <- list(\n",
    "    origOnOrig = fitContinuous(tr, dat[,,1]),\n",
    "    origOnRescaled = fitContinuous(tr2, dat[,,1]),\n",
    "    rescaledOnRescaled = fitContinuous(tr2, dat2[,,1]),\n",
    "    rescaledOnOrig = fitContinuous(tr,dat2[,,1])\n",
    ")\n",
    "models.mat <- cbind(orig = models$origOnOrig$opt,\n",
    "                    origOnRescaled = models$origOnRescaled$opt,\n",
    "                    rescaled = models$rescaledOnRescaled$opt,\n",
    "                    rescaledOnOrig = models$rescaledOnOrig$opt)\n",
    "print(models.mat)"
   ]
  },
  {
   "cell_type": "markdown",
   "metadata": {},
   "source": [
    "Now, let's simulate data on each tree under a Brownian motion model. Ordinarily you should do 200--1000 simulations, but we'll just do a few so that this runs quickly. We'll simulate all four data-tree combinations, using the ML estimates of the root and $\\sigma^2$. The model names will be abbreviated with two numbers, where the first number indicates the dataset, the second the model (the tree):"
   ]
  },
  {
   "cell_type": "code",
   "execution_count": 29,
   "metadata": {
    "collapsed": false
   },
   "outputs": [
    {
     "data": {
      "text/html": [
       "<table>\n",
       "<thead><tr><th scope=col>s12</th><th scope=col>s11</th><th scope=col>s22</th><th scope=col>s21</th></tr></thead>\n",
       "<tbody>\n",
       "\t<tr><td>-33.43149</td><td>-28.45828</td><td>-34.07311</td><td>-59.73815</td></tr>\n",
       "\t<tr><td>-29.22847</td><td>-28.75184</td><td>-36.38007</td><td>-63.07194</td></tr>\n",
       "\t<tr><td>-29.50694</td><td>-23.15475</td><td>-35.46303</td><td>-59.41976</td></tr>\n",
       "\t<tr><td>-32.25506</td><td>-24.04510</td><td>-37.29659</td><td>-56.30018</td></tr>\n",
       "\t<tr><td>-34.62116</td><td>-22.35973</td><td>-34.81901</td><td>-50.58487</td></tr>\n",
       "\t<tr><td>-35.19298</td><td>-25.82448</td><td>-31.39586</td><td>-54.17313</td></tr>\n",
       "\t<tr><td>-33.99850</td><td>-26.26370</td><td>-31.27760</td><td>-59.02610</td></tr>\n",
       "\t<tr><td>-26.82945</td><td>-21.65875</td><td>-28.89208</td><td>-55.81690</td></tr>\n",
       "\t<tr><td>-31.75812</td><td>-25.94716</td><td>-33.31201</td><td>-57.88447</td></tr>\n",
       "\t<tr><td>-29.75308</td><td>-26.69792</td><td>-35.45568</td><td>-53.37639</td></tr>\n",
       "\t<tr><td>-28.78502</td><td>-21.95857</td><td>-33.91970</td><td>-63.03599</td></tr>\n",
       "\t<tr><td>-32.50057</td><td>-23.97096</td><td>-34.73402</td><td>-56.56576</td></tr>\n",
       "\t<tr><td>-32.37914</td><td>-21.98011</td><td>-30.02099</td><td>-58.74107</td></tr>\n",
       "\t<tr><td>-34.80297</td><td>-25.04384</td><td>-32.06390</td><td>-52.37446</td></tr>\n",
       "\t<tr><td>-30.41242</td><td>-27.15523</td><td>-37.82794</td><td>-57.59969</td></tr>\n",
       "\t<tr><td>-38.93560</td><td>-22.99459</td><td>-31.32985</td><td>-58.59388</td></tr>\n",
       "\t<tr><td>-31.68483</td><td>-28.36617</td><td>-38.10609</td><td>-61.22831</td></tr>\n",
       "\t<tr><td>-28.68597</td><td>-27.67821</td><td>-35.82428</td><td>-53.68600</td></tr>\n",
       "\t<tr><td>-29.26072</td><td>-26.88694</td><td>-32.21051</td><td>-53.66048</td></tr>\n",
       "\t<tr><td>-30.02027</td><td>-17.72321</td><td>-32.58257</td><td>-54.85720</td></tr>\n",
       "</tbody>\n",
       "</table>\n"
      ],
      "text/latex": [
       "\\begin{tabular}{llll}\n",
       " s12 & s11 & s22 & s21\\\\\n",
       "\\hline\n",
       "\t -33.43149 & -28.45828 & -34.07311 & -59.73815\\\\\n",
       "\t -29.22847 & -28.75184 & -36.38007 & -63.07194\\\\\n",
       "\t -29.50694 & -23.15475 & -35.46303 & -59.41976\\\\\n",
       "\t -32.25506 & -24.04510 & -37.29659 & -56.30018\\\\\n",
       "\t -34.62116 & -22.35973 & -34.81901 & -50.58487\\\\\n",
       "\t -35.19298 & -25.82448 & -31.39586 & -54.17313\\\\\n",
       "\t -33.99850 & -26.26370 & -31.27760 & -59.02610\\\\\n",
       "\t -26.82945 & -21.65875 & -28.89208 & -55.81690\\\\\n",
       "\t -31.75812 & -25.94716 & -33.31201 & -57.88447\\\\\n",
       "\t -29.75308 & -26.69792 & -35.45568 & -53.37639\\\\\n",
       "\t -28.78502 & -21.95857 & -33.91970 & -63.03599\\\\\n",
       "\t -32.50057 & -23.97096 & -34.73402 & -56.56576\\\\\n",
       "\t -32.37914 & -21.98011 & -30.02099 & -58.74107\\\\\n",
       "\t -34.80297 & -25.04384 & -32.06390 & -52.37446\\\\\n",
       "\t -30.41242 & -27.15523 & -37.82794 & -57.59969\\\\\n",
       "\t -38.93560 & -22.99459 & -31.32985 & -58.59388\\\\\n",
       "\t -31.68483 & -28.36617 & -38.10609 & -61.22831\\\\\n",
       "\t -28.68597 & -27.67821 & -35.82428 & -53.68600\\\\\n",
       "\t -29.26072 & -26.88694 & -32.21051 & -53.66048\\\\\n",
       "\t -30.02027 & -17.72321 & -32.58257 & -54.85720\\\\\n",
       "\\end{tabular}\n"
      ],
      "text/markdown": [
       "\n",
       "s12 | s11 | s22 | s21 | \n",
       "|---|---|---|---|---|---|---|---|---|---|---|---|---|---|---|---|---|---|---|---|\n",
       "| -33.43149 | -28.45828 | -34.07311 | -59.73815 | \n",
       "| -29.22847 | -28.75184 | -36.38007 | -63.07194 | \n",
       "| -29.50694 | -23.15475 | -35.46303 | -59.41976 | \n",
       "| -32.25506 | -24.04510 | -37.29659 | -56.30018 | \n",
       "| -34.62116 | -22.35973 | -34.81901 | -50.58487 | \n",
       "| -35.19298 | -25.82448 | -31.39586 | -54.17313 | \n",
       "| -33.99850 | -26.26370 | -31.27760 | -59.02610 | \n",
       "| -26.82945 | -21.65875 | -28.89208 | -55.81690 | \n",
       "| -31.75812 | -25.94716 | -33.31201 | -57.88447 | \n",
       "| -29.75308 | -26.69792 | -35.45568 | -53.37639 | \n",
       "| -28.78502 | -21.95857 | -33.91970 | -63.03599 | \n",
       "| -32.50057 | -23.97096 | -34.73402 | -56.56576 | \n",
       "| -32.37914 | -21.98011 | -30.02099 | -58.74107 | \n",
       "| -34.80297 | -25.04384 | -32.06390 | -52.37446 | \n",
       "| -30.41242 | -27.15523 | -37.82794 | -57.59969 | \n",
       "| -38.93560 | -22.99459 | -31.32985 | -58.59388 | \n",
       "| -31.68483 | -28.36617 | -38.10609 | -61.22831 | \n",
       "| -28.68597 | -27.67821 | -35.82428 | -53.68600 | \n",
       "| -29.26072 | -26.88694 | -32.21051 | -53.66048 | \n",
       "| -30.02027 | -17.72321 | -32.58257 | -54.85720 | \n",
       "\n",
       "\n"
      ],
      "text/plain": [
       "      s12       s11       s22       s21      \n",
       " [1,] -33.43149 -28.45828 -34.07311 -59.73815\n",
       " [2,] -29.22847 -28.75184 -36.38007 -63.07194\n",
       " [3,] -29.50694 -23.15475 -35.46303 -59.41976\n",
       " [4,] -32.25506 -24.04510 -37.29659 -56.30018\n",
       " [5,] -34.62116 -22.35973 -34.81901 -50.58487\n",
       " [6,] -35.19298 -25.82448 -31.39586 -54.17313\n",
       " [7,] -33.99850 -26.26370 -31.27760 -59.02610\n",
       " [8,] -26.82945 -21.65875 -28.89208 -55.81690\n",
       " [9,] -31.75812 -25.94716 -33.31201 -57.88447\n",
       "[10,] -29.75308 -26.69792 -35.45568 -53.37639\n",
       "[11,] -28.78502 -21.95857 -33.91970 -63.03599\n",
       "[12,] -32.50057 -23.97096 -34.73402 -56.56576\n",
       "[13,] -32.37914 -21.98011 -30.02099 -58.74107\n",
       "[14,] -34.80297 -25.04384 -32.06390 -52.37446\n",
       "[15,] -30.41242 -27.15523 -37.82794 -57.59969\n",
       "[16,] -38.93560 -22.99459 -31.32985 -58.59388\n",
       "[17,] -31.68483 -28.36617 -38.10609 -61.22831\n",
       "[18,] -28.68597 -27.67821 -35.82428 -53.68600\n",
       "[19,] -29.26072 -26.88694 -32.21051 -53.66048\n",
       "[20,] -30.02027 -17.72321 -32.58257 -54.85720"
      ]
     },
     "metadata": {},
     "output_type": "display_data"
    }
   ],
   "source": [
    "sims <- list(\n",
    "    s12 = sim.char(tr2, par = as.numeric(models.mat['sigsq', 'origOnRescaled']), root = as.numeric(models.mat['z0', 'origOnRescaled']), nsim = 20),\n",
    "    s11 = sim.char(tr, par = as.numeric(models.mat['sigsq', 'orig']), root = as.numeric(models.mat['z0', 'orig']), nsim = 20),\n",
    "    s22 = sim.char(tr2, par = as.numeric(models.mat['sigsq', 'rescaled']), root = as.numeric(models.mat['z0', 'rescaled']), nsim = 20),\n",
    "    s21 = sim.char(tr, par = as.numeric(models.mat['sigsq', 'rescaledOnOrig']), root = as.numeric(models.mat['z0', 'rescaledOnOrig']), nsim = 20)\n",
    ")\n",
    "sims.out <- sapply(names(sims), function(x) {\n",
    "    if(substr(x,3,3) == 2) simTree <- tr2\n",
    "        else simTree <- tr\n",
    "    out <- apply(sims[[x]], 3, function(y) fitContinuous(simTree, y)$opt$lnL)\n",
    "    out\n",
    "        })\n",
    "sims.out"
   ]
  },
  {
   "cell_type": "markdown",
   "metadata": {},
   "source": [
    "Now, it is to you to figure out how well your data fit. Use the likelihood ratio $-2 (lnL_{model1} - lnL_{model2})$ as your test statistic, and compare the observed to the distribution."
   ]
  },
  {
   "cell_type": "markdown",
   "metadata": {},
   "source": [
    "# Tutorial questions, Tree stretching\n",
    "We have covered most of the basics of tree stretching in lecture. Work on the following four challenge questions. You are welcome to pilfer code from the lectures, but try (especially in questions 1 and 4) to work directly from the literature. Sometimes methods published in the literature do not have a packaged software implementation, and sometimes even when there is one it is cumbersome to use, either in its own rights or because it does not work well with your workflow. O'Meara et al. 2006 and Blomberg et al. 2003 are a good place to start learning to implmenet methods.\n",
    "\n",
    "1. Code the GLS estimators that O'Meara et al. (2006) use to estimate the rate of trait evolution. Use separate functions for each of the following:\n",
    "    * The phylogenetic mean (or ancestral state at the root)\n",
    "    * Sigma-squared (the rate)\n",
    "    * The log-likelihood\n",
    "\n",
    "2. Make a tree. Generate data using the ```sim.char``` function on the original tree and the tree rescaled to ```lambda = 0.5```. Plot the log-likelihood of your data from lambda = 0 to lambda = 0.5. Using a lnL level of 2 as your significance level, visualize the confidence you should have in your point estimate. Try the same exercise with several trees of 20 taxa and several of 50 taxa. How does your power to detect a lambda < 1 vary with sample size?  \n",
    "\n",
    "3. Code a function to perform the censored test of O'Meara et al. Your function should take a tree, some definition of how the tree should be split up into groups, and a vector of data. These are the arguments of your function. The value of your function (what it returns) should include the log-likelihood of the model, the root state, and sigma-squared for each subtree.\n",
    "\n",
    "4. Code the GLS version of Blomberg's ```K``` (hint: use the formulas in the text _and_ Appendix 2 from Blomberg et al. 2003).\n",
    "\n",
    "# Challenge questions to pursue on your own\n",
    "1. Use the ```rescale``` function from ```geiger``` to investigate the effects of Pagel's lambda, delta, and kappa on a tree. Compare the \"lambda\" model to the \"OU\" model. \n",
    "\n",
    "2. Use the ```pmc``` model to do Boettiger et al.'s (2012) bootstrapping approach. Work through the vignette:\n",
    "\n",
    "```\n",
    "library(pmc)\n",
    "vignette('pmc_tutorial')\n",
    "```\n",
    "\n",
    "3. Code O'Meara et al.'s expected disparity statistic; you can disregard the sigma-squared at the beginning for this exercise. What do the terms of ```E(disparity)``` mean? Make one tree, and scale it from no phylogenetic signal (e.g., ```rescale(tr, 'lambda', 0)```) to very high phylogenetic signal (e.g., ```rescale(tr, 'delta', 0.01)```). How do these rescalings affect ```E(disparity)``` on a given tree? "
   ]
  },
  {
   "cell_type": "markdown",
   "metadata": {},
   "source": [
    "# Tutorial question help -- Try before you peek!\n",
    "Below are possible ways of approaching the tutorial questions. Use these hints if you get stuck, or compare your results to these to see whether your approach converges on mine."
   ]
  },
  {
   "cell_type": "markdown",
   "metadata": {},
   "source": [
    "### Question 1: phylogenetic rate"
   ]
  },
  {
   "cell_type": "code",
   "execution_count": 34,
   "metadata": {
    "collapsed": true
   },
   "outputs": [],
   "source": [
    "library(ape)\n",
    "\n",
    "rootState <- function(tr, X) {\n",
    "  ## the maximum likelihood estimate of root state based on O'Meara, p. 925\n",
    "  vcvMat <- vcv(tr)\n",
    "  one <- matrix(1, length(X), 1) # a matrix of 1s, as tall as the length of X\n",
    "  B0 <- as.numeric(solve(t(one) %*% solve(vcvMat) %*% one) %*% (t(one) %*% solve(vcvMat) %*% X))\n",
    "  return(B0)\n",
    "  }\n",
    "\n",
    "sigmaSq <- function(tr, X) {\n",
    "  ## following O'Meara 2006, eq. 2\n",
    "  vcvMat <- vcv(tr)\n",
    "  N <- length(X)\n",
    "  E.X <- matrix(rootState(tr, X), length(X), 1) # expected value of X is just the rootstate of X\n",
    "  sigmaSq <- as.numeric((t(X - E.X) %*% solve(vcvMat) %*% (X - E.X)) / N)\n",
    "  out <- list(V = vcvMat * sigmaSq, sigmaSq = sigmaSq, X = X, E.X. = E.X, N = N)\n",
    "  class(out) <- \"phylogSigmaSq\"\n",
    "  return(out)\n",
    "  }\n",
    "\n",
    "logLik.phylogSigmaSq <- function(object, ...) {\n",
    "    # following O'Meara 2006, eq. 3\n",
    "    # takes output from sigmaSq\n",
    "numer <- exp(-0.5 * t(object$X - object$E.X) %*% solve(object$V) %*% (object$X - object$E.X))\n",
    "  denom <- sqrt((2*pi)^object$N * det(object$V))\n",
    "  out <- log(numer / denom)\n",
    "  attr(out, \"nobs\") <- object$N\n",
    "  attr(out, \"df\") <- 2\n",
    "  class(out) <- \"logLik\"\n",
    "  return(out)\n",
    "  }"
   ]
  },
  {
   "cell_type": "markdown",
   "metadata": {},
   "source": [
    "#### Question 2 : likelihood surface"
   ]
  },
  {
   "cell_type": "code",
   "execution_count": 35,
   "metadata": {
    "collapsed": false
   },
   "outputs": [
    {
     "data": {
      "image/png": "[encoded data removed]",
      "text/plain": [
       "Plot with title \"lambda tree (0.5)\""
      ]
     },
     "metadata": {},
     "output_type": "display_data"
    }
   ],
   "source": [
    "library(geiger)\n",
    "library(phytools)\n",
    "\n",
    "tr <- pbtree(n = 70)\n",
    "x.raw <- sim.char(tr, 1)[,,]\n",
    "x.lambda.5 <- sim.char(rescale(tr, 'lambda', 0.5), 1)[,,]\n",
    "par(mfrow=c(1,2))\n",
    "x.vals <- seq(from = 0, to = 1, by = 0.02)\n",
    "y.raw <- sapply(x.vals, function(w) {\n",
    "    tr.temp <- rescale(tr, 'lambda', w)\n",
    "    logLik.phylogSigmaSq(sigmaSq(tr.temp, x.raw))\n",
    "    }\n",
    "    )\n",
    "y.lambda <- sapply(x.vals, function(w) {\n",
    "    tr.temp <- rescale(tr, 'lambda', w)\n",
    "    logLik.phylogSigmaSq(sigmaSq(tr.temp, x.lambda.5))\n",
    "    }\n",
    "    )\n",
    "\n",
    "plot(x.vals, y.raw, main = 'original tree', xlab = 'lambda estimate', ylab = 'lnL', type = 'l')\n",
    "abline(h = max(y.raw)-2, lty = 'dashed')\n",
    "plot(x.vals, y.lambda, main = 'lambda tree (0.5)', xlab = 'lambda estimate', ylab = 'lnL', type = 'l')\n",
    "abline(h = max(y.lambda)-2, lty = 'dashed')"
   ]
  },
  {
   "cell_type": "markdown",
   "metadata": {},
   "source": [
    "##### Question 3 : the censored test\n",
    "There are lots of ways to implement this. I've written here a sort of sampler function that shows how I would approach the problem... compare it to how you approached the problem, and take what what you like, leave what you don't."
   ]
  },
  {
   "cell_type": "code",
   "execution_count": 31,
   "metadata": {
    "collapsed": true
   },
   "outputs": [],
   "source": [
    "censor <- function(tr, taxa = 2) {\n",
    "  ## tr is a tree of class \"phylo\"\n",
    "  ## taxa is a list of taxa defining subtrees, or a single number for the number of subtrees you'd like to define somewhat interactively\n",
    "  if(class(taxa) == \"numeric\" && length(taxa) == 1) {\n",
    "    taxa <- vector(\"list\", taxa)\n",
    "    for(i in seq(length(taxa))) taxa[[i]] <- select.list(tr$tip.label, multiple = TRUE, title = \"Select taxa comprising one subtree\")\n",
    "    }\n",
    "  if(!identical(sort(unlist(taxa)), sort(tr$tip.label))) warning(\"Taxa do not represent non-overlapping sets of taxa on the tree\")\n",
    "  treeList <- vector(\"list\",length(taxa))\n",
    "  for(i in seq(length(taxa))) {\n",
    "    tipsToDrop <- tr$tip.label[-which(tr$tip.label %in% taxa[[i]])]\n",
    "    treeList[[i]] <- drop.tip(tr, tipsToDrop)\n",
    "    }\n",
    "  return(treeList)\n",
    "  }\n",
    "\n",
    "testModels <- function(tr, X, multiRateModels = 1, modelList = NULL, ...) {\n",
    "  ## tests a single-rate model against a single multiple-rate models\n",
    "    # -- should be generalized to compare the single-rate model against as many multiple-rate models as you like\n",
    "  ## currently only the censored option is implemented\n",
    "  ## Arguments:\n",
    "  ##  tr = tree of class \"phylo\"\n",
    "  ##  X = vector of trait values\n",
    "  ##  multiRateModels = number of multiple-rate models to test\n",
    "  ##  modelList = list of list of trees; if NULL, trees are created interactively using censor function\n",
    "   \n",
    "  ## 1. Check the data out a bit to catch obvious problems\n",
    "  vcvMat <- vcv(tr)\n",
    "  if(length(X) != dim(vcvMat)[1]) stop(\"This function currently only takes vectors of trait values equal in length to the number of taxa in the tree\")\n",
    "  if(identical(names(X), NULL)) {\n",
    "    warning(\"X has no labels; assumed to be ordered the same as VCV matrix\")\n",
    "    names(X) <- dimnames(vcvMat)[[1]]\n",
    "    }\n",
    "  else {\n",
    "    if(!all(names(X) %in% dimnames(vcvMat)[[1]])) warning(\"X labels not identical to tip labels; traits assumed to be ordered the same as VCV matrix\")\n",
    "    vcvMat <- vcvMat[names(X), names(X)]\n",
    "    }\n",
    "  \n",
    "  ## 2. Set up the models\n",
    "  treeSets <- vector(\"list\", 1 + multiRateModels)\n",
    "  treeSets[[1]] <- list(tr) ## necessary to make this a list of length=1 so that the nested loop below works\n",
    "  maxTrees <- 1\n",
    "  for(i in 2:(1 + multiRateModels)) {\n",
    "    if(class(modelList) == 'list') {\n",
    "      taxa <- length(modelList[[i]])\n",
    "      treeSets[[i]] <- modelList[[i]] # use trees if provided, or ...\n",
    "      } ## close if\n",
    "    else {\n",
    "      taxa <- as.numeric(select.list(c('2','3','4','5','6','7','8','9','10'), preselect = \"2\", title = \"Select the number of subtrees you would like\"))\n",
    "      treeSets[[i]] <- censor(tr, taxa) # ... do interactive tree creation if no trees are handed in via modelList\n",
    "      } ## close else\n",
    "    maxTrees <- max(taxa, maxTrees)\n",
    "    } ## close i\n",
    "  \n",
    "  ## 3. Set up matrix to capture output\n",
    "  paramsBase <- c(\"sigma.sq\", \"root\")\n",
    "  params <- paste(sort(rep(paramsBase, maxTrees)), rep(1:maxTrees,length(paramsBase)), sep = \".\")\n",
    "  results <- matrix(NA, nrow = length(treeSets), ncol = 2 + length(paramsBase)*maxTrees, dimnames = list(1:length(treeSets), c('lnL', 'df', params)))\n",
    "  for(i in 1:length(treeSets)) {\n",
    "    results[i, c('lnL', 'df')] <- c(0,0)\n",
    "    for(j in 1:length(treeSets[[i]])) {\n",
    "      tr.temp <- treeSets[[i]][[j]]\n",
    "      sigma.sq.temp <- sigmaSq(vcv(tr.temp), X[tr.temp$tip.label])\n",
    "      lnL.temp <- logLik(sigma.sq.temp)\n",
    "      results[i, c('lnL', 'df')] <- results[i, c('lnL', 'df')] + c(lnL.temp, attr(lnL.temp, 'df'))\n",
    "      results[i, paste(paramsBase, j, sep = \".\")] <- c(sigma.sq.temp$sigmaSq,                         ## sigma.sq\n",
    "                                                       rootState(vcv(tr.temp), X[tr.temp$tip.label])  ## root\n",
    "                                                       )                                              ## and close that concatenation\n",
    "    } ## close j\n",
    "  } ## close i\n",
    "  results <- list(treeSets = treeSets, modelSummary = results)\n",
    "  return(results)\n",
    "  }"
   ]
  },
  {
   "cell_type": "markdown",
   "metadata": {},
   "source": [
    "#### Question 4 : Blomberg's K"
   ]
  },
  {
   "cell_type": "code",
   "execution_count": 32,
   "metadata": {
    "collapsed": true
   },
   "outputs": [],
   "source": [
    "k.blomberg <- function(tr, X) {\n",
    "    N = length(X)\n",
    "    ones = matrix(1, N)\n",
    "    C = vcv(tr)\n",
    "    C.inv = solve(C)\n",
    "    a.hat = solve(t(ones) %*% C.inv %*% ones) %*% (t(ones) %*% C.inv %*% X)\n",
    "    a.hat = rep(a.hat, N)\n",
    "    MSE0 = (t(X - a.hat) %*% (X - a.hat)) / (N - 1)\n",
    "    MSE = (t(X - a.hat) %*% C.inv %*% (X - a.hat)) / (N - 1)\n",
    "    MSE.ratio.brown = (1 / (N - 1)) * (sum(diag(C)) - N/sum(C.inv))\n",
    "    out = list(K = (MSE0 / MSE)/MSE.ratio.brown,\n",
    "               MSE0 = MSE0,\n",
    "               MSE = MSE,\n",
    "               MSE.ratio.brown = MSE.ratio.brown)\n",
    "    out\n",
    "    }\n"
   ]
  }
 ],
 "metadata": {
  "anaconda-cloud": {},
  "kernelspec": {
   "display_name": "R",
   "language": "R",
   "name": "ir"
  },
  "language_info": {
   "codemirror_mode": "r",
   "file_extension": ".r",
   "mimetype": "text/x-r-source",
   "name": "R",
   "pygments_lexer": "r",
   "version": "3.3.2"
  }
 },
 "nbformat": 4,
 "nbformat_minor": 1
}
