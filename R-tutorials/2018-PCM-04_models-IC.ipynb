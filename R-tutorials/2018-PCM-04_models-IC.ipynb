{
 "cells": [
  {
   "cell_type": "markdown",
   "metadata": {},
   "source": [
    "# CEB 35300, Phylogenetic Comparative Methods \n",
    "## University of Chicago, 2018<br>Andrew Hipp, ahipp@mortonarb.org\n",
    "### Session 4: Likelihood and information criteria"
   ]
  },
  {
   "cell_type": "markdown",
   "metadata": {},
   "source": [
    "This tutorial is largely a chance for you to work through the material from today's lecture on likelihood and information criteria, implementing things to make sure you understand what you are doing. If you are interested in focusing instead on the parametric bootstrapping methods presented in Boettiger et al. 2012, I encourage you to work through his tutorial (in the `pmc` package, enter `vignette('pmc_tutorial'` to view the pdf). \n",
    "\n",
    "In either case, if you are working on your own data, as always I encourage you to try implementing these methods on your own dataset. It is most instructive to try to push your own data through a method, both because there are usually formatting difficulties to work through and because the results will be most sensible to you if you have prior expectations.\n",
    "\n",
    "I will be circulating to address any questions. "
   ]
  },
  {
   "cell_type": "markdown",
   "metadata": {},
   "source": [
    "# Challenge questions relating to lnL and AIC"
   ]
  },
  {
   "cell_type": "markdown",
   "metadata": {},
   "source": [
    "1. Write a function to take a single fitted model and return the AIC and AICc value. Use: \n",
    "    * ```logLik``` to extract the log likelihood from the fitted object --- you may assume for this exercise that you'll be using ```gls```, ```lm```, or some other model with a logLik method attached to it\n",
    "    * ```attr(logLik(obj), 'df')``` to get the number of free model parameters, and \n",
    "    * ```attr(logLik(obj), 'nall')``` to get the sample size.\n",
    "2. Write a function that takes a vector of AIC or AICc values and returns a vector of weights.\n",
    "3. Write a wrapper function that calls both 1 and 2 above on a set of regression models, and returns model-averaged estimates for the model parameters.\n",
    "4. Add model-averaged variances to your function # 3 using Burnham et al. 2011, formula at the bottom of pg. 26.\n",
    "5. Calculate AICc weights for the OU models tested by Boettiger et al. 2012, Table 1. How well does AIC do at indicating best models and uncertainty about these compared to parametric bootstrapping? \n",
    "5. Simulate univariate data on a 100-taxon tree assuming &lambda; = 0.6, and compare Boettiger's parametric bootstrapping method for estimating the confidence about &lambda; with the 2 log-likelihood confidence interval. Use the ```pmc``` function in the ```pmc``` package. "
   ]
  },
  {
   "cell_type": "markdown",
   "metadata": {},
   "source": [
    "# ANSWERS -- NO PEEKING!!!!"
   ]
  },
  {
   "cell_type": "markdown",
   "metadata": {},
   "source": [
    "### Challenge 1"
   ]
  },
  {
   "cell_type": "code",
   "execution_count": 8,
   "metadata": {
    "collapsed": true
   },
   "outputs": [],
   "source": [
    "aic <- function(x, ...) {\n",
    "    dev <- -2 * logLik(x)\n",
    "    K = attr(logLik(x), 'df')\n",
    "    n = attr(logLik(x), 'nall')\n",
    "    aic <- dev + 2*K\n",
    "    aic.c <- aic + (2 * K * (K + 1)) / (n - K - 1)\n",
    "    out <- list(aic = aic, aic.c = aic.c, n = n, K = K, lnL = logLik(x), param = as.numeric(x$modelStruct))\n",
    "    class(out) <- 'aic'\n",
    "    return(out)\n",
    "}"
   ]
  },
  {
   "cell_type": "markdown",
   "metadata": {},
   "source": [
    "### Challenge 2"
   ]
  },
  {
   "cell_type": "code",
   "execution_count": 9,
   "metadata": {
    "collapsed": true
   },
   "outputs": [],
   "source": [
    "aic.w <- function(x, ...) {\n",
    "    aic.lnL <- exp(-0.5 * (x - min(x)))\n",
    "    aic.w <- aic.lnL / sum(aic.lnL)\n",
    "    return(aic.w)\n",
    "}"
   ]
  },
  {
   "cell_type": "markdown",
   "metadata": {},
   "source": [
    "### Challenge 3"
   ]
  },
  {
   "cell_type": "code",
   "execution_count": 10,
   "metadata": {
    "collapsed": false
   },
   "outputs": [
    {
     "data": {
      "text/html": [
       "<table>\n",
       "<thead><tr><th></th><th scope=col>y.x.brown</th><th scope=col>y.x.pagel</th><th scope=col>y.brown</th><th scope=col>y.x.star</th></tr></thead>\n",
       "<tbody>\n",
       "\t<tr><th scope=row>aic</th><td>153.857 </td><td>154.9558</td><td>263.9908</td><td>331.4211</td></tr>\n",
       "\t<tr><th scope=row>aic.c</th><td>154.107 </td><td>155.3768</td><td>264.1145</td><td>331.6711</td></tr>\n",
       "\t<tr><th scope=row>n</th><td>100</td><td>100</td><td>100</td><td>100</td></tr>\n",
       "\t<tr><th scope=row>K</th><td>3</td><td>4</td><td>2</td><td>3</td></tr>\n",
       "\t<tr><th scope=row>lnL</th><td>-73.9285 </td><td>-73.47788</td><td>-129.9954</td><td>-162.7105</td></tr>\n",
       "\t<tr><th scope=row>param</th><td>1       </td><td>1.002416</td><td>1       </td><td>0       </td></tr>\n",
       "</tbody>\n",
       "</table>\n"
      ],
      "text/latex": [
       "\\begin{tabular}{r|llll}\n",
       "  & y.x.brown & y.x.pagel & y.brown & y.x.star\\\\\n",
       "\\hline\n",
       "\taic & 153.857  & 154.9558 & 263.9908 & 331.4211\\\\\n",
       "\taic.c & 154.107  & 155.3768 & 264.1145 & 331.6711\\\\\n",
       "\tn & 100 & 100 & 100 & 100\\\\\n",
       "\tK & 3 & 4 & 2 & 3\\\\\n",
       "\tlnL & -73.9285  & -73.47788 & -129.9954 & -162.7105\\\\\n",
       "\tparam & 1        & 1.002416 & 1        & 0       \\\\\n",
       "\\end{tabular}\n"
      ],
      "text/markdown": [
       "\n",
       "| <!--/--> | y.x.brown | y.x.pagel | y.brown | y.x.star | \n",
       "|---|---|---|---|---|---|\n",
       "| aic | 153.857  | 154.9558 | 263.9908 | 331.4211 | \n",
       "| aic.c | 154.107  | 155.3768 | 264.1145 | 331.6711 | \n",
       "| n | 100 | 100 | 100 | 100 | \n",
       "| K | 3 | 4 | 2 | 3 | \n",
       "| lnL | -73.9285  | -73.47788 | -129.9954 | -162.7105 | \n",
       "| param | 1        | 1.002416 | 1        | 0        | \n",
       "\n",
       "\n"
      ],
      "text/plain": [
       "      y.x.brown y.x.pagel y.brown   y.x.star \n",
       "aic   153.857   154.9558  263.9908  331.4211 \n",
       "aic.c 154.107   155.3768  264.1145  331.6711 \n",
       "n     100       100       100       100      \n",
       "K     3         4         2         3        \n",
       "lnL   -73.9285  -73.47788 -129.9954 -162.7105\n",
       "param 1         1.002416  1         0        "
      ]
     },
     "metadata": {},
     "output_type": "display_data"
    },
    {
     "data": {
      "text/html": [
       "<dl class=dl-horizontal>\n",
       "\t<dt>y.x.brown</dt>\n",
       "\t\t<dd>0.6536</dd>\n",
       "\t<dt>y.x.pagel</dt>\n",
       "\t\t<dd>0.3464</dd>\n",
       "\t<dt>y.brown</dt>\n",
       "\t\t<dd>0</dd>\n",
       "\t<dt>y.x.star</dt>\n",
       "\t\t<dd>0</dd>\n",
       "</dl>\n"
      ],
      "text/latex": [
       "\\begin{description*}\n",
       "\\item[y.x.brown] 0.6536\n",
       "\\item[y.x.pagel] 0.3464\n",
       "\\item[y.brown] 0\n",
       "\\item[y.x.star] 0\n",
       "\\end{description*}\n"
      ],
      "text/markdown": [
       "y.x.brown\n",
       ":   0.6536y.x.pagel\n",
       ":   0.3464y.brown\n",
       ":   0y.x.star\n",
       ":   0\n",
       "\n"
      ],
      "text/plain": [
       "y.x.brown y.x.pagel   y.brown  y.x.star \n",
       "   0.6536    0.3464    0.0000    0.0000 "
      ]
     },
     "metadata": {},
     "output_type": "display_data"
    }
   ],
   "source": [
    "aic.w.modelSet <- function(x, which.use = 'aic.c', ...) {\n",
    "    aic.set <- lapply(x, aic)\n",
    "    aic.set <- sapply(aic.set, function(x) x[[which.use]])\n",
    "    out <- aic.w(aic.set, ...)\n",
    "    return(out)\n",
    "}\n",
    "\n",
    "### TRYING IT OUT\n",
    "\n",
    "library(phytools)\n",
    "library(geiger)\n",
    "library(nlme)\n",
    "                      \n",
    "tr <- pbtree(n = 100)\n",
    "dat <- as.data.frame(sim.char(tr, matrix(c(1,0.8,\n",
    "                                           0.8,1),2,2, byrow = T))[, , 1])\n",
    "names(dat) <- c('y','x')\n",
    "                      \n",
    "models <- list(y.x.brown = gls(y ~ x, dat, correlation = corBrownian(1, tr)),\n",
    "               y.x.pagel = gls(y ~ x, dat, correlation = corPagel(1, tr)), \n",
    "               y.brown = gls(y ~ 1, dat, correlation = corBrownian(1, tr)),\n",
    "               y.x.star = gls(y ~ x, dat, correlation = corPagel(0, tr, fixed = TRUE)))\n",
    "\n",
    "sapply(models, aic)    \n",
    "round(aic.w.modelSet(models), 4)"
   ]
  },
  {
   "cell_type": "markdown",
   "metadata": {},
   "source": [
    "### Challenge 4\n",
    "Check out the lecture online! \n",
    "http://systematics.mortonarb.org/lab/teaching/pcm35300-2018/WK04.MODELS/"
   ]
  },
  {
   "cell_type": "markdown",
   "metadata": {},
   "source": [
    "### Challenge 5"
   ]
  },
  {
   "cell_type": "code",
   "execution_count": 16,
   "metadata": {
    "collapsed": false
   },
   "outputs": [
    {
     "name": "stderr",
     "output_type": "stream",
     "text": [
      "AIC weights corresponding to Boettiger et al. 2012, Table 1\n"
     ]
    },
    {
     "data": {
      "text/html": [
       "<table>\n",
       "<thead><tr><th></th><th scope=col>aic.w</th><th scope=col>aic_c.w</th></tr></thead>\n",
       "<tbody>\n",
       "\t<tr><th scope=row>BM</th><td>0.00000719</td><td>0         </td></tr>\n",
       "\t<tr><th scope=row>OU.1</th><td>0.00000051</td><td>0         </td></tr>\n",
       "\t<tr><th scope=row>OU.3</th><td>0.00064119</td><td>0         </td></tr>\n",
       "\t<tr><th scope=row>OU.4</th><td>0.00153047</td><td>0         </td></tr>\n",
       "\t<tr><th scope=row>OU.15</th><td>0.99782063</td><td>1         </td></tr>\n",
       "</tbody>\n",
       "</table>\n"
      ],
      "text/latex": [
       "\\begin{tabular}{r|ll}\n",
       "  & aic.w & aic\\_c.w\\\\\n",
       "\\hline\n",
       "\tBM & 0.00000719 & 0         \\\\\n",
       "\tOU.1 & 0.00000051 & 0         \\\\\n",
       "\tOU.3 & 0.00064119 & 0         \\\\\n",
       "\tOU.4 & 0.00153047 & 0         \\\\\n",
       "\tOU.15 & 0.99782063 & 1         \\\\\n",
       "\\end{tabular}\n"
      ],
      "text/markdown": [
       "\n",
       "| <!--/--> | aic.w | aic_c.w | \n",
       "|---|---|---|---|---|\n",
       "| BM | 0.00000719 | 0          | \n",
       "| OU.1 | 0.00000051 | 0          | \n",
       "| OU.3 | 0.00064119 | 0          | \n",
       "| OU.4 | 0.00153047 | 0          | \n",
       "| OU.15 | 0.99782063 | 1          | \n",
       "\n",
       "\n"
      ],
      "text/plain": [
       "      aic.w      aic_c.w\n",
       "BM    0.00000719 0      \n",
       "OU.1  0.00000051 0      \n",
       "OU.3  0.00064119 0      \n",
       "OU.4  0.00153047 0      \n",
       "OU.15 0.99782063 1      "
      ]
     },
     "metadata": {},
     "output_type": "display_data"
    }
   ],
   "source": [
    "K = c(2, 3, 5, 6, 17)\n",
    "lnL = c(17.33, 15.69, 24.82, 26.69, 44.17)\n",
    "aic.boett <- -2*lnL + 2*K\n",
    "aicc.boett <- -2*lnL + 2*(K*(K + 1)) / (13 - K - 1) \n",
    "names(aic.boett) <- names(aicc.boett) <- c('BM', 'OU.1', 'OU.3', 'OU.4', 'OU.15')\n",
    "message('AIC weights corresponding to Boettiger et al. 2012, Table 1')\n",
    "cbind(aic.w = round(aic.w(aic.boett), 8),\n",
    "      aic_c.w = round(aic.w(aicc.boett), 8)\n",
    "     )\n"
   ]
  },
  {
   "cell_type": "markdown",
   "metadata": {},
   "source": [
    "Now try challenge 5, but without the OU.15 model... is this a model you would have tested in the first place? Are there reasonable ways to immunize oneself against introducing overly complex, biologically unreasonable models? or do some biologically reasonable models risk falling into the category of OU.15?"
   ]
  }
 ],
 "metadata": {
  "anaconda-cloud": {},
  "kernelspec": {
   "display_name": "R",
   "language": "R",
   "name": "ir"
  },
  "language_info": {
   "codemirror_mode": "r",
   "file_extension": ".r",
   "mimetype": "text/x-r-source",
   "name": "R",
   "pygments_lexer": "r",
   "version": "3.3.2"
  }
 },
 "nbformat": 4,
 "nbformat_minor": 1
}
